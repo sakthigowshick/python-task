{
  "cells": [
    {
      "cell_type": "markdown",
      "metadata": {
        "id": "L_SUzZiiGESN"
      },
      "source": [
        "**Netflix Shows & Movies Analysis:**"
      ]
    },
    {
      "cell_type": "markdown",
      "metadata": {
        "id": "fxHJEzB8GKgR"
      },
      "source": [
        "Part 1 – Basic Data Understanding (Pandas)\n",
        "Load the CSV file into a Pandas DataFrame."
      ]
    },
    {
      "cell_type": "code",
      "execution_count": 9,
      "metadata": {
        "id": "m-HBRCe3_OuB"
      },
      "outputs": [],
      "source": [
        "import pandas as pd\n",
        "import matplotlib.pyplot as plt\n",
        "import numpy as np\n",
        "import seaborn as sns"
      ]
    },
    {
      "cell_type": "code",
      "execution_count": 10,
      "metadata": {
        "colab": {
          "base_uri": "https://localhost:8080/",
          "height": 840
        },
        "id": "8rvW0sLq_44x",
        "outputId": "6abec40e-7c09-47f1-a0b9-3fe9e4945e6a"
      },
      "outputs": [
        {
          "data": {
            "text/html": [
              "<div>\n",
              "<style scoped>\n",
              "    .dataframe tbody tr th:only-of-type {\n",
              "        vertical-align: middle;\n",
              "    }\n",
              "\n",
              "    .dataframe tbody tr th {\n",
              "        vertical-align: top;\n",
              "    }\n",
              "\n",
              "    .dataframe thead th {\n",
              "        text-align: right;\n",
              "    }\n",
              "</style>\n",
              "<table border=\"1\" class=\"dataframe\">\n",
              "  <thead>\n",
              "    <tr style=\"text-align: right;\">\n",
              "      <th></th>\n",
              "      <th>show_id</th>\n",
              "      <th>type</th>\n",
              "      <th>title</th>\n",
              "      <th>director</th>\n",
              "      <th>cast</th>\n",
              "      <th>country</th>\n",
              "      <th>date_added</th>\n",
              "      <th>release_year</th>\n",
              "      <th>rating</th>\n",
              "      <th>duration</th>\n",
              "      <th>listed_in</th>\n",
              "      <th>description</th>\n",
              "    </tr>\n",
              "  </thead>\n",
              "  <tbody>\n",
              "    <tr>\n",
              "      <th>0</th>\n",
              "      <td>s1</td>\n",
              "      <td>Movie</td>\n",
              "      <td>Dick Johnson Is Dead</td>\n",
              "      <td>Kirsten Johnson</td>\n",
              "      <td>NaN</td>\n",
              "      <td>United States</td>\n",
              "      <td>September 25, 2021</td>\n",
              "      <td>2020</td>\n",
              "      <td>PG-13</td>\n",
              "      <td>90 min</td>\n",
              "      <td>Documentaries</td>\n",
              "      <td>As her father nears the end of his life, filmm...</td>\n",
              "    </tr>\n",
              "    <tr>\n",
              "      <th>1</th>\n",
              "      <td>s2</td>\n",
              "      <td>TV Show</td>\n",
              "      <td>Blood &amp; Water</td>\n",
              "      <td>NaN</td>\n",
              "      <td>Ama Qamata, Khosi Ngema, Gail Mabalane, Thaban...</td>\n",
              "      <td>South Africa</td>\n",
              "      <td>September 24, 2021</td>\n",
              "      <td>2021</td>\n",
              "      <td>TV-MA</td>\n",
              "      <td>2 Seasons</td>\n",
              "      <td>International TV Shows, TV Dramas, TV Mysteries</td>\n",
              "      <td>After crossing paths at a party, a Cape Town t...</td>\n",
              "    </tr>\n",
              "    <tr>\n",
              "      <th>2</th>\n",
              "      <td>s3</td>\n",
              "      <td>TV Show</td>\n",
              "      <td>Ganglands</td>\n",
              "      <td>Julien Leclercq</td>\n",
              "      <td>Sami Bouajila, Tracy Gotoas, Samuel Jouy, Nabi...</td>\n",
              "      <td>NaN</td>\n",
              "      <td>September 24, 2021</td>\n",
              "      <td>2021</td>\n",
              "      <td>TV-MA</td>\n",
              "      <td>1 Season</td>\n",
              "      <td>Crime TV Shows, International TV Shows, TV Act...</td>\n",
              "      <td>To protect his family from a powerful drug lor...</td>\n",
              "    </tr>\n",
              "    <tr>\n",
              "      <th>3</th>\n",
              "      <td>s4</td>\n",
              "      <td>TV Show</td>\n",
              "      <td>Jailbirds New Orleans</td>\n",
              "      <td>NaN</td>\n",
              "      <td>NaN</td>\n",
              "      <td>NaN</td>\n",
              "      <td>September 24, 2021</td>\n",
              "      <td>2021</td>\n",
              "      <td>TV-MA</td>\n",
              "      <td>1 Season</td>\n",
              "      <td>Docuseries, Reality TV</td>\n",
              "      <td>Feuds, flirtations and toilet talk go down amo...</td>\n",
              "    </tr>\n",
              "    <tr>\n",
              "      <th>4</th>\n",
              "      <td>s5</td>\n",
              "      <td>TV Show</td>\n",
              "      <td>Kota Factory</td>\n",
              "      <td>NaN</td>\n",
              "      <td>Mayur More, Jitendra Kumar, Ranjan Raj, Alam K...</td>\n",
              "      <td>India</td>\n",
              "      <td>September 24, 2021</td>\n",
              "      <td>2021</td>\n",
              "      <td>TV-MA</td>\n",
              "      <td>2 Seasons</td>\n",
              "      <td>International TV Shows, Romantic TV Shows, TV ...</td>\n",
              "      <td>In a city of coaching centers known to train I...</td>\n",
              "    </tr>\n",
              "    <tr>\n",
              "      <th>...</th>\n",
              "      <td>...</td>\n",
              "      <td>...</td>\n",
              "      <td>...</td>\n",
              "      <td>...</td>\n",
              "      <td>...</td>\n",
              "      <td>...</td>\n",
              "      <td>...</td>\n",
              "      <td>...</td>\n",
              "      <td>...</td>\n",
              "      <td>...</td>\n",
              "      <td>...</td>\n",
              "      <td>...</td>\n",
              "    </tr>\n",
              "    <tr>\n",
              "      <th>8802</th>\n",
              "      <td>s8803</td>\n",
              "      <td>Movie</td>\n",
              "      <td>Zodiac</td>\n",
              "      <td>David Fincher</td>\n",
              "      <td>Mark Ruffalo, Jake Gyllenhaal, Robert Downey J...</td>\n",
              "      <td>United States</td>\n",
              "      <td>November 20, 2019</td>\n",
              "      <td>2007</td>\n",
              "      <td>R</td>\n",
              "      <td>158 min</td>\n",
              "      <td>Cult Movies, Dramas, Thrillers</td>\n",
              "      <td>A political cartoonist, a crime reporter and a...</td>\n",
              "    </tr>\n",
              "    <tr>\n",
              "      <th>8803</th>\n",
              "      <td>s8804</td>\n",
              "      <td>TV Show</td>\n",
              "      <td>Zombie Dumb</td>\n",
              "      <td>NaN</td>\n",
              "      <td>NaN</td>\n",
              "      <td>NaN</td>\n",
              "      <td>July 1, 2019</td>\n",
              "      <td>2018</td>\n",
              "      <td>TV-Y7</td>\n",
              "      <td>2 Seasons</td>\n",
              "      <td>Kids' TV, Korean TV Shows, TV Comedies</td>\n",
              "      <td>While living alone in a spooky town, a young g...</td>\n",
              "    </tr>\n",
              "    <tr>\n",
              "      <th>8804</th>\n",
              "      <td>s8805</td>\n",
              "      <td>Movie</td>\n",
              "      <td>Zombieland</td>\n",
              "      <td>Ruben Fleischer</td>\n",
              "      <td>Jesse Eisenberg, Woody Harrelson, Emma Stone, ...</td>\n",
              "      <td>United States</td>\n",
              "      <td>November 1, 2019</td>\n",
              "      <td>2009</td>\n",
              "      <td>R</td>\n",
              "      <td>88 min</td>\n",
              "      <td>Comedies, Horror Movies</td>\n",
              "      <td>Looking to survive in a world taken over by zo...</td>\n",
              "    </tr>\n",
              "    <tr>\n",
              "      <th>8805</th>\n",
              "      <td>s8806</td>\n",
              "      <td>Movie</td>\n",
              "      <td>Zoom</td>\n",
              "      <td>Peter Hewitt</td>\n",
              "      <td>Tim Allen, Courteney Cox, Chevy Chase, Kate Ma...</td>\n",
              "      <td>United States</td>\n",
              "      <td>January 11, 2020</td>\n",
              "      <td>2006</td>\n",
              "      <td>PG</td>\n",
              "      <td>88 min</td>\n",
              "      <td>Children &amp; Family Movies, Comedies</td>\n",
              "      <td>Dragged from civilian life, a former superhero...</td>\n",
              "    </tr>\n",
              "    <tr>\n",
              "      <th>8806</th>\n",
              "      <td>s8807</td>\n",
              "      <td>Movie</td>\n",
              "      <td>Zubaan</td>\n",
              "      <td>Mozez Singh</td>\n",
              "      <td>Vicky Kaushal, Sarah-Jane Dias, Raaghav Chanan...</td>\n",
              "      <td>India</td>\n",
              "      <td>March 2, 2019</td>\n",
              "      <td>2015</td>\n",
              "      <td>TV-14</td>\n",
              "      <td>111 min</td>\n",
              "      <td>Dramas, International Movies, Music &amp; Musicals</td>\n",
              "      <td>A scrappy but poor boy worms his way into a ty...</td>\n",
              "    </tr>\n",
              "  </tbody>\n",
              "</table>\n",
              "<p>8807 rows × 12 columns</p>\n",
              "</div>"
            ],
            "text/plain": [
              "     show_id     type                  title         director  \\\n",
              "0         s1    Movie   Dick Johnson Is Dead  Kirsten Johnson   \n",
              "1         s2  TV Show          Blood & Water              NaN   \n",
              "2         s3  TV Show              Ganglands  Julien Leclercq   \n",
              "3         s4  TV Show  Jailbirds New Orleans              NaN   \n",
              "4         s5  TV Show           Kota Factory              NaN   \n",
              "...      ...      ...                    ...              ...   \n",
              "8802   s8803    Movie                 Zodiac    David Fincher   \n",
              "8803   s8804  TV Show            Zombie Dumb              NaN   \n",
              "8804   s8805    Movie             Zombieland  Ruben Fleischer   \n",
              "8805   s8806    Movie                   Zoom     Peter Hewitt   \n",
              "8806   s8807    Movie                 Zubaan      Mozez Singh   \n",
              "\n",
              "                                                   cast        country  \\\n",
              "0                                                   NaN  United States   \n",
              "1     Ama Qamata, Khosi Ngema, Gail Mabalane, Thaban...   South Africa   \n",
              "2     Sami Bouajila, Tracy Gotoas, Samuel Jouy, Nabi...            NaN   \n",
              "3                                                   NaN            NaN   \n",
              "4     Mayur More, Jitendra Kumar, Ranjan Raj, Alam K...          India   \n",
              "...                                                 ...            ...   \n",
              "8802  Mark Ruffalo, Jake Gyllenhaal, Robert Downey J...  United States   \n",
              "8803                                                NaN            NaN   \n",
              "8804  Jesse Eisenberg, Woody Harrelson, Emma Stone, ...  United States   \n",
              "8805  Tim Allen, Courteney Cox, Chevy Chase, Kate Ma...  United States   \n",
              "8806  Vicky Kaushal, Sarah-Jane Dias, Raaghav Chanan...          India   \n",
              "\n",
              "              date_added  release_year rating   duration  \\\n",
              "0     September 25, 2021          2020  PG-13     90 min   \n",
              "1     September 24, 2021          2021  TV-MA  2 Seasons   \n",
              "2     September 24, 2021          2021  TV-MA   1 Season   \n",
              "3     September 24, 2021          2021  TV-MA   1 Season   \n",
              "4     September 24, 2021          2021  TV-MA  2 Seasons   \n",
              "...                  ...           ...    ...        ...   \n",
              "8802   November 20, 2019          2007      R    158 min   \n",
              "8803        July 1, 2019          2018  TV-Y7  2 Seasons   \n",
              "8804    November 1, 2019          2009      R     88 min   \n",
              "8805    January 11, 2020          2006     PG     88 min   \n",
              "8806       March 2, 2019          2015  TV-14    111 min   \n",
              "\n",
              "                                              listed_in  \\\n",
              "0                                         Documentaries   \n",
              "1       International TV Shows, TV Dramas, TV Mysteries   \n",
              "2     Crime TV Shows, International TV Shows, TV Act...   \n",
              "3                                Docuseries, Reality TV   \n",
              "4     International TV Shows, Romantic TV Shows, TV ...   \n",
              "...                                                 ...   \n",
              "8802                     Cult Movies, Dramas, Thrillers   \n",
              "8803             Kids' TV, Korean TV Shows, TV Comedies   \n",
              "8804                            Comedies, Horror Movies   \n",
              "8805                 Children & Family Movies, Comedies   \n",
              "8806     Dramas, International Movies, Music & Musicals   \n",
              "\n",
              "                                            description  \n",
              "0     As her father nears the end of his life, filmm...  \n",
              "1     After crossing paths at a party, a Cape Town t...  \n",
              "2     To protect his family from a powerful drug lor...  \n",
              "3     Feuds, flirtations and toilet talk go down amo...  \n",
              "4     In a city of coaching centers known to train I...  \n",
              "...                                                 ...  \n",
              "8802  A political cartoonist, a crime reporter and a...  \n",
              "8803  While living alone in a spooky town, a young g...  \n",
              "8804  Looking to survive in a world taken over by zo...  \n",
              "8805  Dragged from civilian life, a former superhero...  \n",
              "8806  A scrappy but poor boy worms his way into a ty...  \n",
              "\n",
              "[8807 rows x 12 columns]"
            ]
          },
          "execution_count": 10,
          "metadata": {},
          "output_type": "execute_result"
        }
      ],
      "source": [
        "data=pd.read_csv('C:/task02/netflix_titles.csv')\n",
        "data"
      ]
    },
    {
      "cell_type": "markdown",
      "metadata": {
        "id": "Wbnkket0GZGg"
      },
      "source": [
        "Display the first 10 rows of the dataset."
      ]
    },
    {
      "cell_type": "code",
      "execution_count": 11,
      "metadata": {
        "colab": {
          "base_uri": "https://localhost:8080/",
          "height": 796
        },
        "id": "bn5SzvyEBHnB",
        "outputId": "575262c5-8a87-4ec9-9ed9-57fc3f16bc71"
      },
      "outputs": [
        {
          "data": {
            "text/html": [
              "<div>\n",
              "<style scoped>\n",
              "    .dataframe tbody tr th:only-of-type {\n",
              "        vertical-align: middle;\n",
              "    }\n",
              "\n",
              "    .dataframe tbody tr th {\n",
              "        vertical-align: top;\n",
              "    }\n",
              "\n",
              "    .dataframe thead th {\n",
              "        text-align: right;\n",
              "    }\n",
              "</style>\n",
              "<table border=\"1\" class=\"dataframe\">\n",
              "  <thead>\n",
              "    <tr style=\"text-align: right;\">\n",
              "      <th></th>\n",
              "      <th>show_id</th>\n",
              "      <th>type</th>\n",
              "      <th>title</th>\n",
              "      <th>director</th>\n",
              "      <th>cast</th>\n",
              "      <th>country</th>\n",
              "      <th>date_added</th>\n",
              "      <th>release_year</th>\n",
              "      <th>rating</th>\n",
              "      <th>duration</th>\n",
              "      <th>listed_in</th>\n",
              "      <th>description</th>\n",
              "    </tr>\n",
              "  </thead>\n",
              "  <tbody>\n",
              "    <tr>\n",
              "      <th>0</th>\n",
              "      <td>s1</td>\n",
              "      <td>Movie</td>\n",
              "      <td>Dick Johnson Is Dead</td>\n",
              "      <td>Kirsten Johnson</td>\n",
              "      <td>NaN</td>\n",
              "      <td>United States</td>\n",
              "      <td>September 25, 2021</td>\n",
              "      <td>2020</td>\n",
              "      <td>PG-13</td>\n",
              "      <td>90 min</td>\n",
              "      <td>Documentaries</td>\n",
              "      <td>As her father nears the end of his life, filmm...</td>\n",
              "    </tr>\n",
              "    <tr>\n",
              "      <th>1</th>\n",
              "      <td>s2</td>\n",
              "      <td>TV Show</td>\n",
              "      <td>Blood &amp; Water</td>\n",
              "      <td>NaN</td>\n",
              "      <td>Ama Qamata, Khosi Ngema, Gail Mabalane, Thaban...</td>\n",
              "      <td>South Africa</td>\n",
              "      <td>September 24, 2021</td>\n",
              "      <td>2021</td>\n",
              "      <td>TV-MA</td>\n",
              "      <td>2 Seasons</td>\n",
              "      <td>International TV Shows, TV Dramas, TV Mysteries</td>\n",
              "      <td>After crossing paths at a party, a Cape Town t...</td>\n",
              "    </tr>\n",
              "    <tr>\n",
              "      <th>2</th>\n",
              "      <td>s3</td>\n",
              "      <td>TV Show</td>\n",
              "      <td>Ganglands</td>\n",
              "      <td>Julien Leclercq</td>\n",
              "      <td>Sami Bouajila, Tracy Gotoas, Samuel Jouy, Nabi...</td>\n",
              "      <td>NaN</td>\n",
              "      <td>September 24, 2021</td>\n",
              "      <td>2021</td>\n",
              "      <td>TV-MA</td>\n",
              "      <td>1 Season</td>\n",
              "      <td>Crime TV Shows, International TV Shows, TV Act...</td>\n",
              "      <td>To protect his family from a powerful drug lor...</td>\n",
              "    </tr>\n",
              "    <tr>\n",
              "      <th>3</th>\n",
              "      <td>s4</td>\n",
              "      <td>TV Show</td>\n",
              "      <td>Jailbirds New Orleans</td>\n",
              "      <td>NaN</td>\n",
              "      <td>NaN</td>\n",
              "      <td>NaN</td>\n",
              "      <td>September 24, 2021</td>\n",
              "      <td>2021</td>\n",
              "      <td>TV-MA</td>\n",
              "      <td>1 Season</td>\n",
              "      <td>Docuseries, Reality TV</td>\n",
              "      <td>Feuds, flirtations and toilet talk go down amo...</td>\n",
              "    </tr>\n",
              "    <tr>\n",
              "      <th>4</th>\n",
              "      <td>s5</td>\n",
              "      <td>TV Show</td>\n",
              "      <td>Kota Factory</td>\n",
              "      <td>NaN</td>\n",
              "      <td>Mayur More, Jitendra Kumar, Ranjan Raj, Alam K...</td>\n",
              "      <td>India</td>\n",
              "      <td>September 24, 2021</td>\n",
              "      <td>2021</td>\n",
              "      <td>TV-MA</td>\n",
              "      <td>2 Seasons</td>\n",
              "      <td>International TV Shows, Romantic TV Shows, TV ...</td>\n",
              "      <td>In a city of coaching centers known to train I...</td>\n",
              "    </tr>\n",
              "    <tr>\n",
              "      <th>5</th>\n",
              "      <td>s6</td>\n",
              "      <td>TV Show</td>\n",
              "      <td>Midnight Mass</td>\n",
              "      <td>Mike Flanagan</td>\n",
              "      <td>Kate Siegel, Zach Gilford, Hamish Linklater, H...</td>\n",
              "      <td>NaN</td>\n",
              "      <td>September 24, 2021</td>\n",
              "      <td>2021</td>\n",
              "      <td>TV-MA</td>\n",
              "      <td>1 Season</td>\n",
              "      <td>TV Dramas, TV Horror, TV Mysteries</td>\n",
              "      <td>The arrival of a charismatic young priest brin...</td>\n",
              "    </tr>\n",
              "    <tr>\n",
              "      <th>6</th>\n",
              "      <td>s7</td>\n",
              "      <td>Movie</td>\n",
              "      <td>My Little Pony: A New Generation</td>\n",
              "      <td>Robert Cullen, José Luis Ucha</td>\n",
              "      <td>Vanessa Hudgens, Kimiko Glenn, James Marsden, ...</td>\n",
              "      <td>NaN</td>\n",
              "      <td>September 24, 2021</td>\n",
              "      <td>2021</td>\n",
              "      <td>PG</td>\n",
              "      <td>91 min</td>\n",
              "      <td>Children &amp; Family Movies</td>\n",
              "      <td>Equestria's divided. But a bright-eyed hero be...</td>\n",
              "    </tr>\n",
              "    <tr>\n",
              "      <th>7</th>\n",
              "      <td>s8</td>\n",
              "      <td>Movie</td>\n",
              "      <td>Sankofa</td>\n",
              "      <td>Haile Gerima</td>\n",
              "      <td>Kofi Ghanaba, Oyafunmike Ogunlano, Alexandra D...</td>\n",
              "      <td>United States, Ghana, Burkina Faso, United Kin...</td>\n",
              "      <td>September 24, 2021</td>\n",
              "      <td>1993</td>\n",
              "      <td>TV-MA</td>\n",
              "      <td>125 min</td>\n",
              "      <td>Dramas, Independent Movies, International Movies</td>\n",
              "      <td>On a photo shoot in Ghana, an American model s...</td>\n",
              "    </tr>\n",
              "    <tr>\n",
              "      <th>8</th>\n",
              "      <td>s9</td>\n",
              "      <td>TV Show</td>\n",
              "      <td>The Great British Baking Show</td>\n",
              "      <td>Andy Devonshire</td>\n",
              "      <td>Mel Giedroyc, Sue Perkins, Mary Berry, Paul Ho...</td>\n",
              "      <td>United Kingdom</td>\n",
              "      <td>September 24, 2021</td>\n",
              "      <td>2021</td>\n",
              "      <td>TV-14</td>\n",
              "      <td>9 Seasons</td>\n",
              "      <td>British TV Shows, Reality TV</td>\n",
              "      <td>A talented batch of amateur bakers face off in...</td>\n",
              "    </tr>\n",
              "    <tr>\n",
              "      <th>9</th>\n",
              "      <td>s10</td>\n",
              "      <td>Movie</td>\n",
              "      <td>The Starling</td>\n",
              "      <td>Theodore Melfi</td>\n",
              "      <td>Melissa McCarthy, Chris O'Dowd, Kevin Kline, T...</td>\n",
              "      <td>United States</td>\n",
              "      <td>September 24, 2021</td>\n",
              "      <td>2021</td>\n",
              "      <td>PG-13</td>\n",
              "      <td>104 min</td>\n",
              "      <td>Comedies, Dramas</td>\n",
              "      <td>A woman adjusting to life after a loss contend...</td>\n",
              "    </tr>\n",
              "  </tbody>\n",
              "</table>\n",
              "</div>"
            ],
            "text/plain": [
              "  show_id     type                             title  \\\n",
              "0      s1    Movie              Dick Johnson Is Dead   \n",
              "1      s2  TV Show                     Blood & Water   \n",
              "2      s3  TV Show                         Ganglands   \n",
              "3      s4  TV Show             Jailbirds New Orleans   \n",
              "4      s5  TV Show                      Kota Factory   \n",
              "5      s6  TV Show                     Midnight Mass   \n",
              "6      s7    Movie  My Little Pony: A New Generation   \n",
              "7      s8    Movie                           Sankofa   \n",
              "8      s9  TV Show     The Great British Baking Show   \n",
              "9     s10    Movie                      The Starling   \n",
              "\n",
              "                        director  \\\n",
              "0                Kirsten Johnson   \n",
              "1                            NaN   \n",
              "2                Julien Leclercq   \n",
              "3                            NaN   \n",
              "4                            NaN   \n",
              "5                  Mike Flanagan   \n",
              "6  Robert Cullen, José Luis Ucha   \n",
              "7                   Haile Gerima   \n",
              "8                Andy Devonshire   \n",
              "9                 Theodore Melfi   \n",
              "\n",
              "                                                cast  \\\n",
              "0                                                NaN   \n",
              "1  Ama Qamata, Khosi Ngema, Gail Mabalane, Thaban...   \n",
              "2  Sami Bouajila, Tracy Gotoas, Samuel Jouy, Nabi...   \n",
              "3                                                NaN   \n",
              "4  Mayur More, Jitendra Kumar, Ranjan Raj, Alam K...   \n",
              "5  Kate Siegel, Zach Gilford, Hamish Linklater, H...   \n",
              "6  Vanessa Hudgens, Kimiko Glenn, James Marsden, ...   \n",
              "7  Kofi Ghanaba, Oyafunmike Ogunlano, Alexandra D...   \n",
              "8  Mel Giedroyc, Sue Perkins, Mary Berry, Paul Ho...   \n",
              "9  Melissa McCarthy, Chris O'Dowd, Kevin Kline, T...   \n",
              "\n",
              "                                             country          date_added  \\\n",
              "0                                      United States  September 25, 2021   \n",
              "1                                       South Africa  September 24, 2021   \n",
              "2                                                NaN  September 24, 2021   \n",
              "3                                                NaN  September 24, 2021   \n",
              "4                                              India  September 24, 2021   \n",
              "5                                                NaN  September 24, 2021   \n",
              "6                                                NaN  September 24, 2021   \n",
              "7  United States, Ghana, Burkina Faso, United Kin...  September 24, 2021   \n",
              "8                                     United Kingdom  September 24, 2021   \n",
              "9                                      United States  September 24, 2021   \n",
              "\n",
              "   release_year rating   duration  \\\n",
              "0          2020  PG-13     90 min   \n",
              "1          2021  TV-MA  2 Seasons   \n",
              "2          2021  TV-MA   1 Season   \n",
              "3          2021  TV-MA   1 Season   \n",
              "4          2021  TV-MA  2 Seasons   \n",
              "5          2021  TV-MA   1 Season   \n",
              "6          2021     PG     91 min   \n",
              "7          1993  TV-MA    125 min   \n",
              "8          2021  TV-14  9 Seasons   \n",
              "9          2021  PG-13    104 min   \n",
              "\n",
              "                                           listed_in  \\\n",
              "0                                      Documentaries   \n",
              "1    International TV Shows, TV Dramas, TV Mysteries   \n",
              "2  Crime TV Shows, International TV Shows, TV Act...   \n",
              "3                             Docuseries, Reality TV   \n",
              "4  International TV Shows, Romantic TV Shows, TV ...   \n",
              "5                 TV Dramas, TV Horror, TV Mysteries   \n",
              "6                           Children & Family Movies   \n",
              "7   Dramas, Independent Movies, International Movies   \n",
              "8                       British TV Shows, Reality TV   \n",
              "9                                   Comedies, Dramas   \n",
              "\n",
              "                                         description  \n",
              "0  As her father nears the end of his life, filmm...  \n",
              "1  After crossing paths at a party, a Cape Town t...  \n",
              "2  To protect his family from a powerful drug lor...  \n",
              "3  Feuds, flirtations and toilet talk go down amo...  \n",
              "4  In a city of coaching centers known to train I...  \n",
              "5  The arrival of a charismatic young priest brin...  \n",
              "6  Equestria's divided. But a bright-eyed hero be...  \n",
              "7  On a photo shoot in Ghana, an American model s...  \n",
              "8  A talented batch of amateur bakers face off in...  \n",
              "9  A woman adjusting to life after a loss contend...  "
            ]
          },
          "execution_count": 11,
          "metadata": {},
          "output_type": "execute_result"
        }
      ],
      "source": [
        "data.head(10)"
      ]
    },
    {
      "cell_type": "markdown",
      "metadata": {
        "id": "LIFtkh9XGbxI"
      },
      "source": [
        "Show the shape, column names, and data types."
      ]
    },
    {
      "cell_type": "code",
      "execution_count": 12,
      "metadata": {
        "colab": {
          "base_uri": "https://localhost:8080/"
        },
        "id": "3oQeWAz2BOI_",
        "outputId": "22265b61-34c2-4cc9-94bc-337b16323abe"
      },
      "outputs": [
        {
          "name": "stdout",
          "output_type": "stream",
          "text": [
            "(8807, 12)\n",
            "['show_id', 'type', 'title', 'director', 'cast', 'country', 'date_added', 'release_year', 'rating', 'duration', 'listed_in', 'description']\n",
            "show_id         object\n",
            "type            object\n",
            "title           object\n",
            "director        object\n",
            "cast            object\n",
            "country         object\n",
            "date_added      object\n",
            "release_year     int64\n",
            "rating          object\n",
            "duration        object\n",
            "listed_in       object\n",
            "description     object\n",
            "dtype: object\n"
          ]
        }
      ],
      "source": [
        "print(data.shape)\n",
        "print(data.columns.tolist())\n",
        "print(data.dtypes)"
      ]
    },
    {
      "cell_type": "markdown",
      "metadata": {
        "id": "_q45tiN0Gg9H"
      },
      "source": [
        "Check for missing values and duplicates.\n"
      ]
    },
    {
      "cell_type": "code",
      "execution_count": 13,
      "metadata": {
        "colab": {
          "base_uri": "https://localhost:8080/"
        },
        "id": "cDCpHE1ZBzEE",
        "outputId": "b990d41a-7ed6-4e35-e0ab-b285ba9ab166"
      },
      "outputs": [
        {
          "name": "stdout",
          "output_type": "stream",
          "text": [
            "show_id            0\n",
            "type               0\n",
            "title              0\n",
            "director        2634\n",
            "cast             825\n",
            "country          831\n",
            "date_added        10\n",
            "release_year       0\n",
            "rating             4\n",
            "duration           3\n",
            "listed_in          0\n",
            "description        0\n",
            "dtype: int64\n",
            "\n",
            "0\n"
          ]
        }
      ],
      "source": [
        "print(data.isna().sum())\n",
        "print()\n",
        "print(data.duplicated().sum())"
      ]
    },
    {
      "cell_type": "markdown",
      "metadata": {
        "id": "9FQnJ9wEGk0o"
      },
      "source": [
        "Use .describe() for numerical and categorical columns."
      ]
    },
    {
      "cell_type": "code",
      "execution_count": 14,
      "metadata": {
        "colab": {
          "base_uri": "https://localhost:8080/",
          "height": 300
        },
        "id": "bqM7WPn4CI1w",
        "outputId": "4667dff0-7ab3-4f86-9a09-38cc14aa925a"
      },
      "outputs": [
        {
          "data": {
            "text/html": [
              "<div>\n",
              "<style scoped>\n",
              "    .dataframe tbody tr th:only-of-type {\n",
              "        vertical-align: middle;\n",
              "    }\n",
              "\n",
              "    .dataframe tbody tr th {\n",
              "        vertical-align: top;\n",
              "    }\n",
              "\n",
              "    .dataframe thead th {\n",
              "        text-align: right;\n",
              "    }\n",
              "</style>\n",
              "<table border=\"1\" class=\"dataframe\">\n",
              "  <thead>\n",
              "    <tr style=\"text-align: right;\">\n",
              "      <th></th>\n",
              "      <th>release_year</th>\n",
              "    </tr>\n",
              "  </thead>\n",
              "  <tbody>\n",
              "    <tr>\n",
              "      <th>count</th>\n",
              "      <td>8807.000000</td>\n",
              "    </tr>\n",
              "    <tr>\n",
              "      <th>mean</th>\n",
              "      <td>2014.180198</td>\n",
              "    </tr>\n",
              "    <tr>\n",
              "      <th>std</th>\n",
              "      <td>8.819312</td>\n",
              "    </tr>\n",
              "    <tr>\n",
              "      <th>min</th>\n",
              "      <td>1925.000000</td>\n",
              "    </tr>\n",
              "    <tr>\n",
              "      <th>25%</th>\n",
              "      <td>2013.000000</td>\n",
              "    </tr>\n",
              "    <tr>\n",
              "      <th>50%</th>\n",
              "      <td>2017.000000</td>\n",
              "    </tr>\n",
              "    <tr>\n",
              "      <th>75%</th>\n",
              "      <td>2019.000000</td>\n",
              "    </tr>\n",
              "    <tr>\n",
              "      <th>max</th>\n",
              "      <td>2021.000000</td>\n",
              "    </tr>\n",
              "  </tbody>\n",
              "</table>\n",
              "</div>"
            ],
            "text/plain": [
              "       release_year\n",
              "count   8807.000000\n",
              "mean    2014.180198\n",
              "std        8.819312\n",
              "min     1925.000000\n",
              "25%     2013.000000\n",
              "50%     2017.000000\n",
              "75%     2019.000000\n",
              "max     2021.000000"
            ]
          },
          "execution_count": 14,
          "metadata": {},
          "output_type": "execute_result"
        }
      ],
      "source": [
        "data.describe()"
      ]
    },
    {
      "cell_type": "markdown",
      "metadata": {
        "id": "oVSIp9OmGpBs"
      },
      "source": [
        "Get the number of unique values for each column."
      ]
    },
    {
      "cell_type": "code",
      "execution_count": 15,
      "metadata": {
        "colab": {
          "base_uri": "https://localhost:8080/",
          "height": 460
        },
        "id": "f3YQgnazCLpu",
        "outputId": "e19c960a-91fb-44a5-ace6-a013cf4484b2"
      },
      "outputs": [
        {
          "data": {
            "text/plain": [
              "show_id         8807\n",
              "type               2\n",
              "title           8807\n",
              "director        4528\n",
              "cast            7692\n",
              "country          748\n",
              "date_added      1767\n",
              "release_year      74\n",
              "rating            17\n",
              "duration         220\n",
              "listed_in        514\n",
              "description     8775\n",
              "dtype: int64"
            ]
          },
          "execution_count": 15,
          "metadata": {},
          "output_type": "execute_result"
        }
      ],
      "source": [
        "data.nunique()"
      ]
    },
    {
      "cell_type": "markdown",
      "metadata": {
        "id": "OgrfLXuzGvXs"
      },
      "source": [
        "Display the most frequent value in the country column."
      ]
    },
    {
      "cell_type": "code",
      "execution_count": 16,
      "metadata": {
        "colab": {
          "base_uri": "https://localhost:8080/",
          "height": 115
        },
        "id": "BjlWizxbCify",
        "outputId": "9bdbcbc6-4611-496b-e92e-2c6b2b69386d"
      },
      "outputs": [
        {
          "data": {
            "text/plain": [
              "0    United States\n",
              "Name: country, dtype: object"
            ]
          },
          "metadata": {},
          "output_type": "display_data"
        }
      ],
      "source": [
        "display(data['country'].mode())"
      ]
    },
    {
      "cell_type": "markdown",
      "metadata": {
        "id": "uevOEYUxC7iW"
      },
      "source": [
        "Part 2 – EDA (Exploratory Data Analysis)\n"
      ]
    },
    {
      "cell_type": "markdown",
      "metadata": {
        "id": "i79FxWcMG30a"
      },
      "source": [
        "Plot a bar chart for the count of Movies vs TV Shows."
      ]
    },
    {
      "cell_type": "code",
      "execution_count": 17,
      "metadata": {
        "colab": {
          "base_uri": "https://localhost:8080/",
          "height": 564
        },
        "id": "rvVcWvMVCySh",
        "outputId": "3ab7b7f9-539c-4e0e-ac76-7557fd6bf9de"
      },
      "outputs": [
        {
          "data": {
            "image/png": "[encoded data removed]",
            "text/plain": [
              "<Figure size 800x600 with 1 Axes>"
            ]
          },
          "metadata": {},
          "output_type": "display_data"
        }
      ],
      "source": [
        "type_counts = data['type'].value_counts()\n",
        "plt.figure(figsize=(8, 6))\n",
        "sns.barplot(x=type_counts.index, y=type_counts.values)\n",
        "plt.title('Count of Movies vs TV Shows on Netflix')\n",
        "plt.xlabel('Type')\n",
        "plt.ylabel('Count')\n",
        "plt.show()"
      ]
    },
    {
      "cell_type": "markdown",
      "metadata": {
        "id": "zGy17jyuG52A"
      },
      "source": [
        "Find the top 10 countries producing the most content.\n"
      ]
    },
    {
      "cell_type": "code",
      "execution_count": 18,
      "metadata": {
        "colab": {
          "base_uri": "https://localhost:8080/",
          "height": 363
        },
        "id": "JUYJTKIzGRJd",
        "outputId": "955f2b44-fdb6-4d9b-b8f3-1134e9c6f466"
      },
      "outputs": [
        {
          "data": {
            "text/html": [
              "<div>\n",
              "<style scoped>\n",
              "    .dataframe tbody tr th:only-of-type {\n",
              "        vertical-align: middle;\n",
              "    }\n",
              "\n",
              "    .dataframe tbody tr th {\n",
              "        vertical-align: top;\n",
              "    }\n",
              "\n",
              "    .dataframe thead th {\n",
              "        text-align: right;\n",
              "    }\n",
              "</style>\n",
              "<table border=\"1\" class=\"dataframe\">\n",
              "  <thead>\n",
              "    <tr style=\"text-align: right;\">\n",
              "      <th></th>\n",
              "      <th>country</th>\n",
              "      <th>count</th>\n",
              "    </tr>\n",
              "  </thead>\n",
              "  <tbody>\n",
              "    <tr>\n",
              "      <th>0</th>\n",
              "      <td>United States</td>\n",
              "      <td>2818</td>\n",
              "    </tr>\n",
              "    <tr>\n",
              "      <th>1</th>\n",
              "      <td>India</td>\n",
              "      <td>972</td>\n",
              "    </tr>\n",
              "    <tr>\n",
              "      <th>2</th>\n",
              "      <td>United Kingdom</td>\n",
              "      <td>419</td>\n",
              "    </tr>\n",
              "    <tr>\n",
              "      <th>3</th>\n",
              "      <td>Japan</td>\n",
              "      <td>245</td>\n",
              "    </tr>\n",
              "    <tr>\n",
              "      <th>4</th>\n",
              "      <td>South Korea</td>\n",
              "      <td>199</td>\n",
              "    </tr>\n",
              "    <tr>\n",
              "      <th>5</th>\n",
              "      <td>Canada</td>\n",
              "      <td>181</td>\n",
              "    </tr>\n",
              "    <tr>\n",
              "      <th>6</th>\n",
              "      <td>Spain</td>\n",
              "      <td>145</td>\n",
              "    </tr>\n",
              "    <tr>\n",
              "      <th>7</th>\n",
              "      <td>France</td>\n",
              "      <td>124</td>\n",
              "    </tr>\n",
              "    <tr>\n",
              "      <th>8</th>\n",
              "      <td>Mexico</td>\n",
              "      <td>110</td>\n",
              "    </tr>\n",
              "    <tr>\n",
              "      <th>9</th>\n",
              "      <td>Egypt</td>\n",
              "      <td>106</td>\n",
              "    </tr>\n",
              "  </tbody>\n",
              "</table>\n",
              "</div>"
            ],
            "text/plain": [
              "          country  count\n",
              "0   United States   2818\n",
              "1           India    972\n",
              "2  United Kingdom    419\n",
              "3           Japan    245\n",
              "4     South Korea    199\n",
              "5          Canada    181\n",
              "6           Spain    145\n",
              "7          France    124\n",
              "8          Mexico    110\n",
              "9           Egypt    106"
            ]
          },
          "metadata": {},
          "output_type": "display_data"
        }
      ],
      "source": [
        "display( data['country'].value_counts().head(10).reset_index())"
      ]
    },
    {
      "cell_type": "markdown",
      "metadata": {
        "id": "fYhgY-ofHXpB"
      },
      "source": [
        "Find the top 10 most common genres in listed_in"
      ]
    },
    {
      "cell_type": "code",
      "execution_count": 19,
      "metadata": {
        "colab": {
          "base_uri": "https://localhost:8080/",
          "height": 363
        },
        "id": "mrfYs3WOHT6K",
        "outputId": "e70e3988-910b-4dc5-8430-c0c85103d6b8"
      },
      "outputs": [
        {
          "data": {
            "text/html": [
              "<div>\n",
              "<style scoped>\n",
              "    .dataframe tbody tr th:only-of-type {\n",
              "        vertical-align: middle;\n",
              "    }\n",
              "\n",
              "    .dataframe tbody tr th {\n",
              "        vertical-align: top;\n",
              "    }\n",
              "\n",
              "    .dataframe thead th {\n",
              "        text-align: right;\n",
              "    }\n",
              "</style>\n",
              "<table border=\"1\" class=\"dataframe\">\n",
              "  <thead>\n",
              "    <tr style=\"text-align: right;\">\n",
              "      <th></th>\n",
              "      <th>listed_in</th>\n",
              "      <th>count</th>\n",
              "    </tr>\n",
              "  </thead>\n",
              "  <tbody>\n",
              "    <tr>\n",
              "      <th>0</th>\n",
              "      <td>Dramas, International Movies</td>\n",
              "      <td>362</td>\n",
              "    </tr>\n",
              "    <tr>\n",
              "      <th>1</th>\n",
              "      <td>Documentaries</td>\n",
              "      <td>359</td>\n",
              "    </tr>\n",
              "    <tr>\n",
              "      <th>2</th>\n",
              "      <td>Stand-Up Comedy</td>\n",
              "      <td>334</td>\n",
              "    </tr>\n",
              "    <tr>\n",
              "      <th>3</th>\n",
              "      <td>Comedies, Dramas, International Movies</td>\n",
              "      <td>274</td>\n",
              "    </tr>\n",
              "    <tr>\n",
              "      <th>4</th>\n",
              "      <td>Dramas, Independent Movies, International Movies</td>\n",
              "      <td>252</td>\n",
              "    </tr>\n",
              "    <tr>\n",
              "      <th>5</th>\n",
              "      <td>Kids' TV</td>\n",
              "      <td>220</td>\n",
              "    </tr>\n",
              "    <tr>\n",
              "      <th>6</th>\n",
              "      <td>Children &amp; Family Movies</td>\n",
              "      <td>215</td>\n",
              "    </tr>\n",
              "    <tr>\n",
              "      <th>7</th>\n",
              "      <td>Children &amp; Family Movies, Comedies</td>\n",
              "      <td>201</td>\n",
              "    </tr>\n",
              "    <tr>\n",
              "      <th>8</th>\n",
              "      <td>Documentaries, International Movies</td>\n",
              "      <td>186</td>\n",
              "    </tr>\n",
              "    <tr>\n",
              "      <th>9</th>\n",
              "      <td>Dramas, International Movies, Romantic Movies</td>\n",
              "      <td>180</td>\n",
              "    </tr>\n",
              "  </tbody>\n",
              "</table>\n",
              "</div>"
            ],
            "text/plain": [
              "                                          listed_in  count\n",
              "0                      Dramas, International Movies    362\n",
              "1                                     Documentaries    359\n",
              "2                                   Stand-Up Comedy    334\n",
              "3            Comedies, Dramas, International Movies    274\n",
              "4  Dramas, Independent Movies, International Movies    252\n",
              "5                                          Kids' TV    220\n",
              "6                          Children & Family Movies    215\n",
              "7                Children & Family Movies, Comedies    201\n",
              "8               Documentaries, International Movies    186\n",
              "9     Dramas, International Movies, Romantic Movies    180"
            ]
          },
          "metadata": {},
          "output_type": "display_data"
        }
      ],
      "source": [
        "display( data['listed_in'].value_counts().head(10).reset_index())"
      ]
    },
    {
      "cell_type": "markdown",
      "metadata": {
        "id": "lzvcJPEYHy6u"
      },
      "source": [
        "Scatter plot: release_year vs count of titles."
      ]
    },
    {
      "cell_type": "code",
      "execution_count": 20,
      "metadata": {
        "colab": {
          "base_uri": "https://localhost:8080/",
          "height": 564
        },
        "id": "e05b1a93",
        "outputId": "a356e002-79b4-4380-9488-98210b6d1396"
      },
      "outputs": [
        {
          "data": {
            "image/png": "[encoded data removed]",
            "text/plain": [
              "<Figure size 1200x600 with 1 Axes>"
            ]
          },
          "metadata": {},
          "output_type": "display_data"
        }
      ],
      "source": [
        "release_year_counts = data['release_year'].value_counts().reset_index()\n",
        "release_year_counts.columns = ['release_year', 'count']\n",
        "plt.figure(figsize=(12, 6))\n",
        "sns.scatterplot(x='release_year', y='count', data=release_year_counts)\n",
        "plt.title('Number of Titles Released Per Year')\n",
        "plt.xlabel('Release Year')\n",
        "plt.ylabel('Number of Titles')\n",
        "plt.grid(True)\n",
        "plt.show()"
      ]
    },
    {
      "cell_type": "markdown",
      "metadata": {
        "id": "IOlkLCXuIPgP"
      },
      "source": [
        "Create a histogram of movie durations (in minutes)."
      ]
    },
    {
      "cell_type": "code",
      "execution_count": 21,
      "metadata": {
        "colab": {
          "base_uri": "https://localhost:8080/",
          "height": 564
        },
        "id": "6e33c39e",
        "outputId": "7a5cd777-e2d3-46be-af95-8f05ddc71cc5"
      },
      "outputs": [
        {
          "data": {
            "image/png": "[encoded data removed]",
            "text/plain": [
              "<Figure size 1000x600 with 1 Axes>"
            ]
          },
          "metadata": {},
          "output_type": "display_data"
        }
      ],
      "source": [
        "tv_show_durations = data[data['type'] == 'TV Show']['duration'].str.replace(' Seasons', '').str.replace(' Season', '').astype(int)\n",
        "plt.figure(figsize=(10, 6))\n",
        "sns.histplot(tv_show_durations, bins=tv_show_durations.max(), kde=False)\n",
        "plt.title('Distribution of TV Show Durations (in seasons)')\n",
        "plt.xlabel('Duration (seasons)')\n",
        "plt.ylabel('Count')\n",
        "plt.xticks(range(1, tv_show_durations.max() + 1))\n",
        "plt.show()"
      ]
    },
    {
      "cell_type": "markdown",
      "metadata": {
        "id": "LIwI6OdzU21q"
      },
      "source": [
        "Bar chart of the number of titles added per year (based on date_added)."
      ]
    },
    {
      "cell_type": "code",
      "execution_count": 22,
      "metadata": {
        "colab": {
          "base_uri": "https://localhost:8080/",
          "height": 607
        },
        "id": "pLJ9ZZoPHXYf",
        "outputId": "498ce994-8abb-435b-dd8d-74dc7a9bed15"
      },
      "outputs": [
        {
          "data": {
            "image/png": "[encoded data removed]",
            "text/plain": [
              "<Figure size 1200x600 with 1 Axes>"
            ]
          },
          "metadata": {},
          "output_type": "display_data"
        }
      ],
      "source": [
        "# Convert 'date_added' to datetime objects and extract the year\n",
        "data['date_added'] = pd.to_datetime(data['date_added'], errors='coerce')\n",
        "data['year_added'] = data['date_added'].dt.year\n",
        "yearly_added_counts = data['year_added'].value_counts().sort_index()\n",
        "plt.figure(figsize=(12, 6))\n",
        "sns.barplot(x=yearly_added_counts.index, y=yearly_added_counts.values)\n",
        "plt.title('Number of Titles Added Per Year')\n",
        "plt.xlabel('Year Added')\n",
        "plt.ylabel('Number of Titles')\n",
        "plt.xticks(rotation=45)\n",
        "plt.tight_layout()\n",
        "plt.show()"
      ]
    },
    {
      "cell_type": "markdown",
      "metadata": {
        "id": "joi1fGlWHU8t"
      },
      "source": [
        "Find the year with the highest number of releases."
      ]
    },
    {
      "cell_type": "code",
      "execution_count": 23,
      "metadata": {
        "colab": {
          "base_uri": "https://localhost:8080/"
        },
        "id": "X9uneGIgIkUn",
        "outputId": "f0ba3485-aca0-4e87-cf83-e833af0def51"
      },
      "outputs": [
        {
          "name": "stdout",
          "output_type": "stream",
          "text": [
            "The year with the highest content release was: 2018 with 1147 titles.\n"
          ]
        }
      ],
      "source": [
        "# Find the year with the maximum count from the release_year_counts DataFrame\n",
        "year_highest_release = release_year_counts.loc[release_year_counts['count'].idxmax()]\n",
        "print(f\"The year with the highest content release was: {int(year_highest_release['release_year'])} with {year_highest_release['count']} titles.\")"
      ]
    },
    {
      "cell_type": "markdown",
      "metadata": {
        "id": "svMbVNrZYwLo"
      },
      "source": [
        "PART 3:Statistics"
      ]
    },
    {
      "cell_type": "markdown",
      "metadata": {
        "id": "szRsvzUXI_vw"
      },
      "source": [
        "Calculate the mean, median, mode of release_year."
      ]
    },
    {
      "cell_type": "code",
      "execution_count": 24,
      "metadata": {
        "colab": {
          "base_uri": "https://localhost:8080/",
          "height": 150
        },
        "id": "xDzCChtnXMMb",
        "outputId": "063843cd-6b8b-492e-e69f-67cd26ba1d5a"
      },
      "outputs": [
        {
          "data": {
            "text/plain": [
              "np.float64(2014.1801975701146)"
            ]
          },
          "metadata": {},
          "output_type": "display_data"
        },
        {
          "data": {
            "text/plain": [
              "np.float64(2017.0)"
            ]
          },
          "metadata": {},
          "output_type": "display_data"
        },
        {
          "data": {
            "text/plain": [
              "0    2018\n",
              "Name: release_year, dtype: int64"
            ]
          },
          "metadata": {},
          "output_type": "display_data"
        }
      ],
      "source": [
        "display(data['release_year'].mean())\n",
        "display(data['release_year'].median())\n",
        "display(data['release_year'].mode())"
      ]
    },
    {
      "cell_type": "markdown",
      "metadata": {
        "id": "TuUVasoZJBOM"
      },
      "source": [
        "Find the variance and standard deviation of release_year."
      ]
    },
    {
      "cell_type": "code",
      "execution_count": 25,
      "metadata": {
        "colab": {
          "base_uri": "https://localhost:8080/",
          "height": 52
        },
        "id": "VbFCs2GMZJ9z",
        "outputId": "c89dd20b-cc20-4271-e1f6-88633fc9b21a"
      },
      "outputs": [
        {
          "data": {
            "text/plain": [
              "np.float64(77.78026646107516)"
            ]
          },
          "metadata": {},
          "output_type": "display_data"
        },
        {
          "data": {
            "text/plain": [
              "np.float64(8.819312130833966)"
            ]
          },
          "metadata": {},
          "output_type": "display_data"
        }
      ],
      "source": [
        "display(data['release_year'].var())\n",
        "display(data['release_year'].std())"
      ]
    },
    {
      "cell_type": "markdown",
      "metadata": {
        "id": "p32NNzqZJJ13"
      },
      "source": [
        "Percentage of titles added in the last 5 years.\n"
      ]
    },
    {
      "cell_type": "code",
      "execution_count": 26,
      "metadata": {
        "colab": {
          "base_uri": "https://localhost:8080/"
        },
        "id": "KX6UNoJyJMHH",
        "outputId": "af946191-eef1-4f71-a165-21730f4d38ef"
      },
      "outputs": [
        {
          "name": "stdout",
          "output_type": "stream",
          "text": [
            "Percentage of titles added in the last 5 years: 92.70%\n"
          ]
        }
      ],
      "source": [
        "# Get the most recent year in the data\n",
        "latest_year = data['year_added'].max()\n",
        "start_year = latest_year - 4\n",
        "recent_titles = data[data['year_added'] >= start_year]\n",
        "percentage_recent_titles = (len(recent_titles) / len(data)) * 100\n",
        "print(f\"Percentage of titles added in the last 5 years: {percentage_recent_titles:.2f}%\")"
      ]
    },
    {
      "cell_type": "markdown",
      "metadata": {
        "id": "u8dNcfXMJECG"
      },
      "source": [
        "Find the most common rating for Movies and TV Shows separately.\n"
      ]
    },
    {
      "cell_type": "code",
      "execution_count": 27,
      "metadata": {
        "colab": {
          "base_uri": "https://localhost:8080/"
        },
        "id": "d79c982a",
        "outputId": "26ed3e55-ca7c-40f5-8947-104655c4aecc"
      },
      "outputs": [
        {
          "name": "stdout",
          "output_type": "stream",
          "text": [
            "Most common rating for Movies: TV-MA\n",
            "Most common rating for TV Shows: TV-MA\n"
          ]
        }
      ],
      "source": [
        "data = data.dropna(subset=['rating'])\n",
        "movie_rating = data[data['type'] == 'Movie']['rating'].value_counts().idxmax()\n",
        "tvshow_rating = data[data['type'] == 'TV Show']['rating'].value_counts().idxmax()\n",
        "\n",
        "print(\"Most common rating for Movies:\", movie_rating)\n",
        "print(\"Most common rating for TV Shows:\", tvshow_rating)\n"
      ]
    },
    {
      "cell_type": "markdown",
      "metadata": {
        "id": "ktPu3qgtdsbU"
      },
      "source": [
        "Part 4:Linear Algebra & NumPy"
      ]
    },
    {
      "cell_type": "markdown",
      "metadata": {
        "id": "gnGRuW69J9sw"
      },
      "source": [
        "Create a NumPy array of release_year.\n"
      ]
    },
    {
      "cell_type": "code",
      "execution_count": 28,
      "metadata": {
        "colab": {
          "base_uri": "https://localhost:8080/"
        },
        "id": "9vB1G8pOcWll",
        "outputId": "75b363b6-a948-4d22-a79b-915bbfac1329"
      },
      "outputs": [
        {
          "name": "stdout",
          "output_type": "stream",
          "text": [
            "[2020 2021 2021 ... 2009 2006 2015]\n"
          ]
        }
      ],
      "source": [
        "import numpy as np\n",
        "release_year_array = np.array(data['release_year'])\n",
        "print(release_year_array)\n"
      ]
    },
    {
      "cell_type": "markdown",
      "metadata": {
        "id": "EHGe7xB0KGdo"
      },
      "source": [
        "Create a NumPy binary array for is_movie (1 if type=Movie else 0).\n"
      ]
    },
    {
      "cell_type": "code",
      "execution_count": 29,
      "metadata": {
        "colab": {
          "base_uri": "https://localhost:8080/"
        },
        "id": "yvym3W_Yd-FP",
        "outputId": "4cf17517-b7bb-477b-f143-b1798c5fd106"
      },
      "outputs": [
        {
          "name": "stdout",
          "output_type": "stream",
          "text": [
            "[1 0 0 ... 1 1 1]\n"
          ]
        }
      ],
      "source": [
        "is_movie = np.where(data['type'] == 'Movie', 1, 0)\n",
        "print(is_movie)"
      ]
    },
    {
      "cell_type": "markdown",
      "metadata": {
        "id": "7TIj0ezAKOTH"
      },
      "source": [
        "Perform vector addition of release_year array and is_movie array."
      ]
    },
    {
      "cell_type": "code",
      "execution_count": 30,
      "metadata": {
        "colab": {
          "base_uri": "https://localhost:8080/"
        },
        "id": "aSY7P0fHeFxJ",
        "outputId": "94d7227e-f3ef-4764-d144-2217823a6008"
      },
      "outputs": [
        {
          "name": "stdout",
          "output_type": "stream",
          "text": [
            "[2021 2021 2021 ... 2010 2007 2016]\n"
          ]
        }
      ],
      "source": [
        "# Perform vector addition of release_year array and is_movie array.\n",
        "vector_add = release_year_array + is_movie\n",
        "print(vector_add)"
      ]
    },
    {
      "cell_type": "markdown",
      "metadata": {
        "id": "s4et7B8ZKRu2"
      },
      "source": [
        "Compute the dot product of release_year and is_movie arrays."
      ]
    },
    {
      "cell_type": "code",
      "execution_count": 31,
      "metadata": {
        "colab": {
          "base_uri": "https://localhost:8080/"
        },
        "id": "a0ZSZMGHedMM",
        "outputId": "8f114e31-fdea-4130-f82a-df0891890776"
      },
      "outputs": [
        {
          "name": "stdout",
          "output_type": "stream",
          "text": [
            "12338416\n"
          ]
        }
      ],
      "source": [
        "dot_product = np.dot(release_year_array, is_movie)\n",
        "print(dot_product)"
      ]
    },
    {
      "cell_type": "markdown",
      "metadata": {
        "id": "5hNwlMBFKUnE"
      },
      "source": [
        "Create a feature matrix with [release_year, is_movie] and multiply with weights [0.6, 0.4]."
      ]
    },
    {
      "cell_type": "code",
      "execution_count": 32,
      "metadata": {
        "colab": {
          "base_uri": "https://localhost:8080/"
        },
        "id": "Nyz9Ry7EePez",
        "outputId": "a2853fe6-7b7e-4d5e-bacb-cd625a740f5f"
      },
      "outputs": [
        {
          "name": "stdout",
          "output_type": "stream",
          "text": [
            "[1212.4 1212.6 1212.6 1212.6 1212.6 1212.6 1213.  1196.2 1212.6 1213. ]\n"
          ]
        }
      ],
      "source": [
        "release_year = data['release_year'].to_numpy()\n",
        "is_movie = (data['type'] == 'Movie').astype(int).to_numpy()\n",
        "features = np.column_stack((release_year, is_movie))\n",
        "weights = np.array([0.6, 0.4])\n",
        "weighted_sum = features @ weights\n",
        "print(weighted_sum[:10])"
      ]
    },
    {
      "cell_type": "markdown",
      "metadata": {
        "id": "nb0CN2CKKXED"
      },
      "source": [
        "Normalize the release_year column using vector normalization.\n"
      ]
    },
    {
      "cell_type": "code",
      "execution_count": 33,
      "metadata": {
        "colab": {
          "base_uri": "https://localhost:8080/"
        },
        "id": "ktWOHnjJei5w",
        "outputId": "8815a949-9aed-4717-c6d0-42e215210d8f"
      },
      "outputs": [
        {
          "name": "stdout",
          "output_type": "stream",
          "text": [
            "Normalized release_year: [0.01068891 0.01069421 0.01069421 0.01069421 0.01069421 0.01069421\n",
            " 0.01069421 0.01054604 0.01069421 0.01069421]\n"
          ]
        }
      ],
      "source": [
        "release_year_norm = release_year / np.linalg.norm(release_year)\n",
        "print(\"Normalized release_year:\", release_year_norm[:10])"
      ]
    },
    {
      "cell_type": "markdown",
      "metadata": {
        "id": "oIBqeeyHfHgD"
      },
      "source": [
        "Part 5:Calculus\n"
      ]
    },
    {
      "cell_type": "markdown",
      "metadata": {
        "id": "gOmIeYaSKbzL"
      },
      "source": [
        "Assume a function:\n",
        " Popularity_Score = (is_movie×release_year) + 0.5×(release_year−2000)^2\n",
        " Find the derivative with respect to release_year."
      ]
    },
    {
      "cell_type": "code",
      "execution_count": 34,
      "metadata": {
        "colab": {
          "base_uri": "https://localhost:8080/"
        },
        "id": "hmJk2yk3fI0L",
        "outputId": "6dc7ef86-a102-4741-a573-3d0b2b616967"
      },
      "outputs": [
        {
          "name": "stdout",
          "output_type": "stream",
          "text": [
            "Release Year: [2001 2010 2020]\n",
            "Is Movie: [1 0 1]\n",
            "Derivative: [ 2 10 21]\n"
          ]
        }
      ],
      "source": [
        "import numpy as np\n",
        "#sample values\n",
        "release_year = np.array([2001, 2010, 2020])\n",
        "is_movie = np.array([1, 0, 1])\n",
        "derivative = is_movie + (release_year - 2000)\n",
        "print(\"Release Year:\", release_year)\n",
        "print(\"Is Movie:\", is_movie)\n",
        "print(\"Derivative:\", derivative)\n"
      ]
    },
    {
      "cell_type": "markdown",
      "metadata": {
        "id": "Agblq42RiRQu"
      },
      "source": [
        "Part 6: Feature Engineering\n"
      ]
    },
    {
      "cell_type": "markdown",
      "metadata": {
        "id": "Wrmh1jR9Kx2Z"
      },
      "source": [
        "Create content_age = 2025 - release_year.\n"
      ]
    },
    {
      "cell_type": "code",
      "execution_count": 35,
      "metadata": {
        "colab": {
          "base_uri": "https://localhost:8080/",
          "height": 206
        },
        "id": "pR94N2Yoh9Nu",
        "outputId": "2ff9d4ed-0a95-46ef-967b-ce3761ae699b"
      },
      "outputs": [
        {
          "name": "stderr",
          "output_type": "stream",
          "text": [
            "C:\\Users\\Sakthi\\AppData\\Local\\Temp\\ipykernel_8144\\1984186478.py:1: SettingWithCopyWarning: \n",
            "A value is trying to be set on a copy of a slice from a DataFrame.\n",
            "Try using .loc[row_indexer,col_indexer] = value instead\n",
            "\n",
            "See the caveats in the documentation: https://pandas.pydata.org/pandas-docs/stable/user_guide/indexing.html#returning-a-view-versus-a-copy\n",
            "  data.loc[:, 'content_age'] = 2025 - data['release_year']\n",
            "C:\\Users\\Sakthi\\AppData\\Local\\Temp\\ipykernel_8144\\1984186478.py:2: SettingWithCopyWarning: \n",
            "A value is trying to be set on a copy of a slice from a DataFrame.\n",
            "Try using .loc[row_indexer,col_indexer] = value instead\n",
            "\n",
            "See the caveats in the documentation: https://pandas.pydata.org/pandas-docs/stable/user_guide/indexing.html#returning-a-view-versus-a-copy\n",
            "  data.loc[:, 'is_movie'] = np.where(data['type'] == 'Movie', 1, 0)\n"
          ]
        },
        {
          "data": {
            "text/html": [
              "<div>\n",
              "<style scoped>\n",
              "    .dataframe tbody tr th:only-of-type {\n",
              "        vertical-align: middle;\n",
              "    }\n",
              "\n",
              "    .dataframe tbody tr th {\n",
              "        vertical-align: top;\n",
              "    }\n",
              "\n",
              "    .dataframe thead th {\n",
              "        text-align: right;\n",
              "    }\n",
              "</style>\n",
              "<table border=\"1\" class=\"dataframe\">\n",
              "  <thead>\n",
              "    <tr style=\"text-align: right;\">\n",
              "      <th></th>\n",
              "      <th>title</th>\n",
              "      <th>type</th>\n",
              "      <th>is_movie</th>\n",
              "      <th>content_age</th>\n",
              "    </tr>\n",
              "  </thead>\n",
              "  <tbody>\n",
              "    <tr>\n",
              "      <th>0</th>\n",
              "      <td>Dick Johnson Is Dead</td>\n",
              "      <td>Movie</td>\n",
              "      <td>1</td>\n",
              "      <td>5</td>\n",
              "    </tr>\n",
              "    <tr>\n",
              "      <th>1</th>\n",
              "      <td>Blood &amp; Water</td>\n",
              "      <td>TV Show</td>\n",
              "      <td>0</td>\n",
              "      <td>4</td>\n",
              "    </tr>\n",
              "    <tr>\n",
              "      <th>2</th>\n",
              "      <td>Ganglands</td>\n",
              "      <td>TV Show</td>\n",
              "      <td>0</td>\n",
              "      <td>4</td>\n",
              "    </tr>\n",
              "    <tr>\n",
              "      <th>3</th>\n",
              "      <td>Jailbirds New Orleans</td>\n",
              "      <td>TV Show</td>\n",
              "      <td>0</td>\n",
              "      <td>4</td>\n",
              "    </tr>\n",
              "    <tr>\n",
              "      <th>4</th>\n",
              "      <td>Kota Factory</td>\n",
              "      <td>TV Show</td>\n",
              "      <td>0</td>\n",
              "      <td>4</td>\n",
              "    </tr>\n",
              "  </tbody>\n",
              "</table>\n",
              "</div>"
            ],
            "text/plain": [
              "                   title     type  is_movie  content_age\n",
              "0   Dick Johnson Is Dead    Movie         1            5\n",
              "1          Blood & Water  TV Show         0            4\n",
              "2              Ganglands  TV Show         0            4\n",
              "3  Jailbirds New Orleans  TV Show         0            4\n",
              "4           Kota Factory  TV Show         0            4"
            ]
          },
          "metadata": {},
          "output_type": "display_data"
        }
      ],
      "source": [
        "data.loc[:, 'content_age'] = 2025 - data['release_year']\n",
        "data.loc[:, 'is_movie'] = np.where(data['type'] == 'Movie', 1, 0)\n",
        "display(data[['title', 'type', 'is_movie', 'content_age']].head())"
      ]
    },
    {
      "cell_type": "markdown",
      "metadata": {
        "id": "zlgRn_AkK2UX"
      },
      "source": [
        "Create is_movie column (1 if type='Movie', else 0).\n"
      ]
    },
    {
      "cell_type": "code",
      "execution_count": 36,
      "metadata": {
        "colab": {
          "base_uri": "https://localhost:8080/",
          "height": 206
        },
        "id": "3f3fbefc",
        "outputId": "7ad15661-43bc-4640-e7b0-242e7510c283"
      },
      "outputs": [
        {
          "data": {
            "text/html": [
              "<div>\n",
              "<style scoped>\n",
              "    .dataframe tbody tr th:only-of-type {\n",
              "        vertical-align: middle;\n",
              "    }\n",
              "\n",
              "    .dataframe tbody tr th {\n",
              "        vertical-align: top;\n",
              "    }\n",
              "\n",
              "    .dataframe thead th {\n",
              "        text-align: right;\n",
              "    }\n",
              "</style>\n",
              "<table border=\"1\" class=\"dataframe\">\n",
              "  <thead>\n",
              "    <tr style=\"text-align: right;\">\n",
              "      <th></th>\n",
              "      <th>title</th>\n",
              "      <th>type</th>\n",
              "      <th>is_movie</th>\n",
              "    </tr>\n",
              "  </thead>\n",
              "  <tbody>\n",
              "    <tr>\n",
              "      <th>0</th>\n",
              "      <td>Dick Johnson Is Dead</td>\n",
              "      <td>Movie</td>\n",
              "      <td>1</td>\n",
              "    </tr>\n",
              "    <tr>\n",
              "      <th>1</th>\n",
              "      <td>Blood &amp; Water</td>\n",
              "      <td>TV Show</td>\n",
              "      <td>0</td>\n",
              "    </tr>\n",
              "    <tr>\n",
              "      <th>2</th>\n",
              "      <td>Ganglands</td>\n",
              "      <td>TV Show</td>\n",
              "      <td>0</td>\n",
              "    </tr>\n",
              "    <tr>\n",
              "      <th>3</th>\n",
              "      <td>Jailbirds New Orleans</td>\n",
              "      <td>TV Show</td>\n",
              "      <td>0</td>\n",
              "    </tr>\n",
              "    <tr>\n",
              "      <th>4</th>\n",
              "      <td>Kota Factory</td>\n",
              "      <td>TV Show</td>\n",
              "      <td>0</td>\n",
              "    </tr>\n",
              "  </tbody>\n",
              "</table>\n",
              "</div>"
            ],
            "text/plain": [
              "                   title     type  is_movie\n",
              "0   Dick Johnson Is Dead    Movie         1\n",
              "1          Blood & Water  TV Show         0\n",
              "2              Ganglands  TV Show         0\n",
              "3  Jailbirds New Orleans  TV Show         0\n",
              "4           Kota Factory  TV Show         0"
            ]
          },
          "metadata": {},
          "output_type": "display_data"
        }
      ],
      "source": [
        "data.loc[:, 'is_movie'] = np.where(data['type'] == 'Movie', 1, 0)\n",
        "display(data[['title', 'type', 'is_movie']].head())"
      ]
    },
    {
      "cell_type": "markdown",
      "metadata": {
        "id": "pfX40g6-K6A6"
      },
      "source": [
        "Create recent_release (1 if release_year >= 2020, else 0)."
      ]
    },
    {
      "cell_type": "code",
      "execution_count": 37,
      "metadata": {
        "colab": {
          "base_uri": "https://localhost:8080/",
          "height": 206
        },
        "id": "01e44b7a",
        "outputId": "188f3a2f-f363-405d-9e10-4405805f0e2f"
      },
      "outputs": [
        {
          "name": "stderr",
          "output_type": "stream",
          "text": [
            "C:\\Users\\Sakthi\\AppData\\Local\\Temp\\ipykernel_8144\\3394454567.py:1: SettingWithCopyWarning: \n",
            "A value is trying to be set on a copy of a slice from a DataFrame.\n",
            "Try using .loc[row_indexer,col_indexer] = value instead\n",
            "\n",
            "See the caveats in the documentation: https://pandas.pydata.org/pandas-docs/stable/user_guide/indexing.html#returning-a-view-versus-a-copy\n",
            "  data.loc[:, 'recent_release'] = np.where(data['release_year'] >= 2020, 1, 0)\n"
          ]
        },
        {
          "data": {
            "text/html": [
              "<div>\n",
              "<style scoped>\n",
              "    .dataframe tbody tr th:only-of-type {\n",
              "        vertical-align: middle;\n",
              "    }\n",
              "\n",
              "    .dataframe tbody tr th {\n",
              "        vertical-align: top;\n",
              "    }\n",
              "\n",
              "    .dataframe thead th {\n",
              "        text-align: right;\n",
              "    }\n",
              "</style>\n",
              "<table border=\"1\" class=\"dataframe\">\n",
              "  <thead>\n",
              "    <tr style=\"text-align: right;\">\n",
              "      <th></th>\n",
              "      <th>title</th>\n",
              "      <th>release_year</th>\n",
              "      <th>recent_release</th>\n",
              "    </tr>\n",
              "  </thead>\n",
              "  <tbody>\n",
              "    <tr>\n",
              "      <th>0</th>\n",
              "      <td>Dick Johnson Is Dead</td>\n",
              "      <td>2020</td>\n",
              "      <td>1</td>\n",
              "    </tr>\n",
              "    <tr>\n",
              "      <th>1</th>\n",
              "      <td>Blood &amp; Water</td>\n",
              "      <td>2021</td>\n",
              "      <td>1</td>\n",
              "    </tr>\n",
              "    <tr>\n",
              "      <th>2</th>\n",
              "      <td>Ganglands</td>\n",
              "      <td>2021</td>\n",
              "      <td>1</td>\n",
              "    </tr>\n",
              "    <tr>\n",
              "      <th>3</th>\n",
              "      <td>Jailbirds New Orleans</td>\n",
              "      <td>2021</td>\n",
              "      <td>1</td>\n",
              "    </tr>\n",
              "    <tr>\n",
              "      <th>4</th>\n",
              "      <td>Kota Factory</td>\n",
              "      <td>2021</td>\n",
              "      <td>1</td>\n",
              "    </tr>\n",
              "  </tbody>\n",
              "</table>\n",
              "</div>"
            ],
            "text/plain": [
              "                   title  release_year  recent_release\n",
              "0   Dick Johnson Is Dead          2020               1\n",
              "1          Blood & Water          2021               1\n",
              "2              Ganglands          2021               1\n",
              "3  Jailbirds New Orleans          2021               1\n",
              "4           Kota Factory          2021               1"
            ]
          },
          "metadata": {},
          "output_type": "display_data"
        }
      ],
      "source": [
        "data.loc[:, 'recent_release'] = np.where(data['release_year'] >= 2020, 1, 0)\n",
        "display(data[['title', 'release_year', 'recent_release']].head())"
      ]
    },
    {
      "cell_type": "markdown",
      "metadata": {
        "id": "xWsVk6NtK9MB"
      },
      "source": [
        "Create num_genres = count of genres in listed_in."
      ]
    },
    {
      "cell_type": "code",
      "execution_count": 38,
      "metadata": {
        "colab": {
          "base_uri": "https://localhost:8080/",
          "height": 206
        },
        "id": "7940dc6c",
        "outputId": "d0ab5958-11f9-4230-8160-a73876d04ed8"
      },
      "outputs": [
        {
          "name": "stderr",
          "output_type": "stream",
          "text": [
            "C:\\Users\\Sakthi\\AppData\\Local\\Temp\\ipykernel_8144\\597791445.py:1: SettingWithCopyWarning: \n",
            "A value is trying to be set on a copy of a slice from a DataFrame.\n",
            "Try using .loc[row_indexer,col_indexer] = value instead\n",
            "\n",
            "See the caveats in the documentation: https://pandas.pydata.org/pandas-docs/stable/user_guide/indexing.html#returning-a-view-versus-a-copy\n",
            "  data.loc[:, 'num_genres'] = data['listed_in'].str.split(', ').str.len()\n"
          ]
        },
        {
          "data": {
            "text/html": [
              "<div>\n",
              "<style scoped>\n",
              "    .dataframe tbody tr th:only-of-type {\n",
              "        vertical-align: middle;\n",
              "    }\n",
              "\n",
              "    .dataframe tbody tr th {\n",
              "        vertical-align: top;\n",
              "    }\n",
              "\n",
              "    .dataframe thead th {\n",
              "        text-align: right;\n",
              "    }\n",
              "</style>\n",
              "<table border=\"1\" class=\"dataframe\">\n",
              "  <thead>\n",
              "    <tr style=\"text-align: right;\">\n",
              "      <th></th>\n",
              "      <th>title</th>\n",
              "      <th>listed_in</th>\n",
              "      <th>num_genres</th>\n",
              "    </tr>\n",
              "  </thead>\n",
              "  <tbody>\n",
              "    <tr>\n",
              "      <th>0</th>\n",
              "      <td>Dick Johnson Is Dead</td>\n",
              "      <td>Documentaries</td>\n",
              "      <td>1</td>\n",
              "    </tr>\n",
              "    <tr>\n",
              "      <th>1</th>\n",
              "      <td>Blood &amp; Water</td>\n",
              "      <td>International TV Shows, TV Dramas, TV Mysteries</td>\n",
              "      <td>3</td>\n",
              "    </tr>\n",
              "    <tr>\n",
              "      <th>2</th>\n",
              "      <td>Ganglands</td>\n",
              "      <td>Crime TV Shows, International TV Shows, TV Act...</td>\n",
              "      <td>3</td>\n",
              "    </tr>\n",
              "    <tr>\n",
              "      <th>3</th>\n",
              "      <td>Jailbirds New Orleans</td>\n",
              "      <td>Docuseries, Reality TV</td>\n",
              "      <td>2</td>\n",
              "    </tr>\n",
              "    <tr>\n",
              "      <th>4</th>\n",
              "      <td>Kota Factory</td>\n",
              "      <td>International TV Shows, Romantic TV Shows, TV ...</td>\n",
              "      <td>3</td>\n",
              "    </tr>\n",
              "  </tbody>\n",
              "</table>\n",
              "</div>"
            ],
            "text/plain": [
              "                   title                                          listed_in  \\\n",
              "0   Dick Johnson Is Dead                                      Documentaries   \n",
              "1          Blood & Water    International TV Shows, TV Dramas, TV Mysteries   \n",
              "2              Ganglands  Crime TV Shows, International TV Shows, TV Act...   \n",
              "3  Jailbirds New Orleans                             Docuseries, Reality TV   \n",
              "4           Kota Factory  International TV Shows, Romantic TV Shows, TV ...   \n",
              "\n",
              "   num_genres  \n",
              "0           1  \n",
              "1           3  \n",
              "2           3  \n",
              "3           2  \n",
              "4           3  "
            ]
          },
          "metadata": {},
          "output_type": "display_data"
        }
      ],
      "source": [
        "data.loc[:, 'num_genres'] = data['listed_in'].str.split(', ').str.len()\n",
        "display(data[['title', 'listed_in', 'num_genres']].head())"
      ]
    },
    {
      "cell_type": "markdown",
      "metadata": {
        "id": "x9bdLiAtLAEJ"
      },
      "source": [
        "Rank titles into quartiles based on release_year."
      ]
    },
    {
      "cell_type": "code",
      "execution_count": 39,
      "metadata": {
        "colab": {
          "base_uri": "https://localhost:8080/",
          "height": 430
        },
        "id": "17077493",
        "outputId": "24b6fb88-6f81-4fd9-a906-11188df14524"
      },
      "outputs": [
        {
          "name": "stderr",
          "output_type": "stream",
          "text": [
            "C:\\Users\\Sakthi\\AppData\\Local\\Temp\\ipykernel_8144\\3370914304.py:1: SettingWithCopyWarning: \n",
            "A value is trying to be set on a copy of a slice from a DataFrame.\n",
            "Try using .loc[row_indexer,col_indexer] = value instead\n",
            "\n",
            "See the caveats in the documentation: https://pandas.pydata.org/pandas-docs/stable/user_guide/indexing.html#returning-a-view-versus-a-copy\n",
            "  data.loc[:, 'release_year_quartile'] = pd.qcut(data['release_year'], q=4, labels=['Q1', 'Q2', 'Q3', 'Q4'], duplicates='drop')\n"
          ]
        },
        {
          "data": {
            "text/plain": [
              "release_year_quartile\n",
              "Q2    2843\n",
              "Q1    2238\n",
              "Q3    2177\n",
              "Q4    1545\n",
              "Name: count, dtype: int64"
            ]
          },
          "metadata": {},
          "output_type": "display_data"
        },
        {
          "data": {
            "text/html": [
              "<div>\n",
              "<style scoped>\n",
              "    .dataframe tbody tr th:only-of-type {\n",
              "        vertical-align: middle;\n",
              "    }\n",
              "\n",
              "    .dataframe tbody tr th {\n",
              "        vertical-align: top;\n",
              "    }\n",
              "\n",
              "    .dataframe thead th {\n",
              "        text-align: right;\n",
              "    }\n",
              "</style>\n",
              "<table border=\"1\" class=\"dataframe\">\n",
              "  <thead>\n",
              "    <tr style=\"text-align: right;\">\n",
              "      <th></th>\n",
              "      <th>title</th>\n",
              "      <th>release_year</th>\n",
              "      <th>release_year_quartile</th>\n",
              "    </tr>\n",
              "  </thead>\n",
              "  <tbody>\n",
              "    <tr>\n",
              "      <th>0</th>\n",
              "      <td>Dick Johnson Is Dead</td>\n",
              "      <td>2020</td>\n",
              "      <td>Q4</td>\n",
              "    </tr>\n",
              "    <tr>\n",
              "      <th>1</th>\n",
              "      <td>Blood &amp; Water</td>\n",
              "      <td>2021</td>\n",
              "      <td>Q4</td>\n",
              "    </tr>\n",
              "    <tr>\n",
              "      <th>2</th>\n",
              "      <td>Ganglands</td>\n",
              "      <td>2021</td>\n",
              "      <td>Q4</td>\n",
              "    </tr>\n",
              "    <tr>\n",
              "      <th>3</th>\n",
              "      <td>Jailbirds New Orleans</td>\n",
              "      <td>2021</td>\n",
              "      <td>Q4</td>\n",
              "    </tr>\n",
              "    <tr>\n",
              "      <th>4</th>\n",
              "      <td>Kota Factory</td>\n",
              "      <td>2021</td>\n",
              "      <td>Q4</td>\n",
              "    </tr>\n",
              "  </tbody>\n",
              "</table>\n",
              "</div>"
            ],
            "text/plain": [
              "                   title  release_year release_year_quartile\n",
              "0   Dick Johnson Is Dead          2020                    Q4\n",
              "1          Blood & Water          2021                    Q4\n",
              "2              Ganglands          2021                    Q4\n",
              "3  Jailbirds New Orleans          2021                    Q4\n",
              "4           Kota Factory          2021                    Q4"
            ]
          },
          "metadata": {},
          "output_type": "display_data"
        }
      ],
      "source": [
        "data.loc[:, 'release_year_quartile'] = pd.qcut(data['release_year'], q=4, labels=['Q1', 'Q2', 'Q3', 'Q4'], duplicates='drop')\n",
        "display(data['release_year_quartile'].value_counts())\n",
        "display(data[['title', 'release_year', 'release_year_quartile']].head())"
      ]
    },
    {
      "cell_type": "markdown",
      "metadata": {
        "id": "z1hJ-ltemTDt"
      },
      "source": [
        "Part 7:SQL Simulation in Pandas"
      ]
    },
    {
      "cell_type": "markdown",
      "metadata": {
        "id": "YSmK10AYLEr6"
      },
      "source": [
        "Select all titles where type = 'Movie' and release_year > 2015"
      ]
    },
    {
      "cell_type": "code",
      "execution_count": 40,
      "metadata": {
        "colab": {
          "base_uri": "https://localhost:8080/",
          "height": 694
        },
        "id": "b0f6ccf9",
        "outputId": "d00b4ff2-b86c-44d6-8d2c-c0ca9c86751f"
      },
      "outputs": [
        {
          "data": {
            "text/html": [
              "<div>\n",
              "<style scoped>\n",
              "    .dataframe tbody tr th:only-of-type {\n",
              "        vertical-align: middle;\n",
              "    }\n",
              "\n",
              "    .dataframe tbody tr th {\n",
              "        vertical-align: top;\n",
              "    }\n",
              "\n",
              "    .dataframe thead th {\n",
              "        text-align: right;\n",
              "    }\n",
              "</style>\n",
              "<table border=\"1\" class=\"dataframe\">\n",
              "  <thead>\n",
              "    <tr style=\"text-align: right;\">\n",
              "      <th></th>\n",
              "      <th>show_id</th>\n",
              "      <th>type</th>\n",
              "      <th>title</th>\n",
              "      <th>director</th>\n",
              "      <th>cast</th>\n",
              "      <th>country</th>\n",
              "      <th>date_added</th>\n",
              "      <th>release_year</th>\n",
              "      <th>rating</th>\n",
              "      <th>duration</th>\n",
              "      <th>listed_in</th>\n",
              "      <th>description</th>\n",
              "      <th>year_added</th>\n",
              "      <th>content_age</th>\n",
              "      <th>is_movie</th>\n",
              "      <th>recent_release</th>\n",
              "      <th>num_genres</th>\n",
              "      <th>release_year_quartile</th>\n",
              "    </tr>\n",
              "  </thead>\n",
              "  <tbody>\n",
              "    <tr>\n",
              "      <th>0</th>\n",
              "      <td>s1</td>\n",
              "      <td>Movie</td>\n",
              "      <td>Dick Johnson Is Dead</td>\n",
              "      <td>Kirsten Johnson</td>\n",
              "      <td>NaN</td>\n",
              "      <td>United States</td>\n",
              "      <td>2021-09-25</td>\n",
              "      <td>2020</td>\n",
              "      <td>PG-13</td>\n",
              "      <td>90 min</td>\n",
              "      <td>Documentaries</td>\n",
              "      <td>As her father nears the end of his life, filmm...</td>\n",
              "      <td>2021.0</td>\n",
              "      <td>5</td>\n",
              "      <td>1</td>\n",
              "      <td>1</td>\n",
              "      <td>1</td>\n",
              "      <td>Q4</td>\n",
              "    </tr>\n",
              "    <tr>\n",
              "      <th>6</th>\n",
              "      <td>s7</td>\n",
              "      <td>Movie</td>\n",
              "      <td>My Little Pony: A New Generation</td>\n",
              "      <td>Robert Cullen, José Luis Ucha</td>\n",
              "      <td>Vanessa Hudgens, Kimiko Glenn, James Marsden, ...</td>\n",
              "      <td>NaN</td>\n",
              "      <td>2021-09-24</td>\n",
              "      <td>2021</td>\n",
              "      <td>PG</td>\n",
              "      <td>91 min</td>\n",
              "      <td>Children &amp; Family Movies</td>\n",
              "      <td>Equestria's divided. But a bright-eyed hero be...</td>\n",
              "      <td>2021.0</td>\n",
              "      <td>4</td>\n",
              "      <td>1</td>\n",
              "      <td>1</td>\n",
              "      <td>1</td>\n",
              "      <td>Q4</td>\n",
              "    </tr>\n",
              "    <tr>\n",
              "      <th>9</th>\n",
              "      <td>s10</td>\n",
              "      <td>Movie</td>\n",
              "      <td>The Starling</td>\n",
              "      <td>Theodore Melfi</td>\n",
              "      <td>Melissa McCarthy, Chris O'Dowd, Kevin Kline, T...</td>\n",
              "      <td>United States</td>\n",
              "      <td>2021-09-24</td>\n",
              "      <td>2021</td>\n",
              "      <td>PG-13</td>\n",
              "      <td>104 min</td>\n",
              "      <td>Comedies, Dramas</td>\n",
              "      <td>A woman adjusting to life after a loss contend...</td>\n",
              "      <td>2021.0</td>\n",
              "      <td>4</td>\n",
              "      <td>1</td>\n",
              "      <td>1</td>\n",
              "      <td>2</td>\n",
              "      <td>Q4</td>\n",
              "    </tr>\n",
              "    <tr>\n",
              "      <th>12</th>\n",
              "      <td>s13</td>\n",
              "      <td>Movie</td>\n",
              "      <td>Je Suis Karl</td>\n",
              "      <td>Christian Schwochow</td>\n",
              "      <td>Luna Wedler, Jannis Niewöhner, Milan Peschel, ...</td>\n",
              "      <td>Germany, Czech Republic</td>\n",
              "      <td>2021-09-23</td>\n",
              "      <td>2021</td>\n",
              "      <td>TV-MA</td>\n",
              "      <td>127 min</td>\n",
              "      <td>Dramas, International Movies</td>\n",
              "      <td>After most of her family is murdered in a terr...</td>\n",
              "      <td>2021.0</td>\n",
              "      <td>4</td>\n",
              "      <td>1</td>\n",
              "      <td>1</td>\n",
              "      <td>2</td>\n",
              "      <td>Q4</td>\n",
              "    </tr>\n",
              "    <tr>\n",
              "      <th>13</th>\n",
              "      <td>s14</td>\n",
              "      <td>Movie</td>\n",
              "      <td>Confessions of an Invisible Girl</td>\n",
              "      <td>Bruno Garotti</td>\n",
              "      <td>Klara Castanho, Lucca Picon, Júlia Gomes, Marc...</td>\n",
              "      <td>NaN</td>\n",
              "      <td>2021-09-22</td>\n",
              "      <td>2021</td>\n",
              "      <td>TV-PG</td>\n",
              "      <td>91 min</td>\n",
              "      <td>Children &amp; Family Movies, Comedies</td>\n",
              "      <td>When the clever but socially-awkward Tetê join...</td>\n",
              "      <td>2021.0</td>\n",
              "      <td>4</td>\n",
              "      <td>1</td>\n",
              "      <td>1</td>\n",
              "      <td>2</td>\n",
              "      <td>Q4</td>\n",
              "    </tr>\n",
              "  </tbody>\n",
              "</table>\n",
              "</div>"
            ],
            "text/plain": [
              "   show_id   type                             title  \\\n",
              "0       s1  Movie              Dick Johnson Is Dead   \n",
              "6       s7  Movie  My Little Pony: A New Generation   \n",
              "9      s10  Movie                      The Starling   \n",
              "12     s13  Movie                      Je Suis Karl   \n",
              "13     s14  Movie  Confessions of an Invisible Girl   \n",
              "\n",
              "                         director  \\\n",
              "0                 Kirsten Johnson   \n",
              "6   Robert Cullen, José Luis Ucha   \n",
              "9                  Theodore Melfi   \n",
              "12            Christian Schwochow   \n",
              "13                  Bruno Garotti   \n",
              "\n",
              "                                                 cast  \\\n",
              "0                                                 NaN   \n",
              "6   Vanessa Hudgens, Kimiko Glenn, James Marsden, ...   \n",
              "9   Melissa McCarthy, Chris O'Dowd, Kevin Kline, T...   \n",
              "12  Luna Wedler, Jannis Niewöhner, Milan Peschel, ...   \n",
              "13  Klara Castanho, Lucca Picon, Júlia Gomes, Marc...   \n",
              "\n",
              "                    country date_added  release_year rating duration  \\\n",
              "0             United States 2021-09-25          2020  PG-13   90 min   \n",
              "6                       NaN 2021-09-24          2021     PG   91 min   \n",
              "9             United States 2021-09-24          2021  PG-13  104 min   \n",
              "12  Germany, Czech Republic 2021-09-23          2021  TV-MA  127 min   \n",
              "13                      NaN 2021-09-22          2021  TV-PG   91 min   \n",
              "\n",
              "                             listed_in  \\\n",
              "0                        Documentaries   \n",
              "6             Children & Family Movies   \n",
              "9                     Comedies, Dramas   \n",
              "12        Dramas, International Movies   \n",
              "13  Children & Family Movies, Comedies   \n",
              "\n",
              "                                          description  year_added  \\\n",
              "0   As her father nears the end of his life, filmm...      2021.0   \n",
              "6   Equestria's divided. But a bright-eyed hero be...      2021.0   \n",
              "9   A woman adjusting to life after a loss contend...      2021.0   \n",
              "12  After most of her family is murdered in a terr...      2021.0   \n",
              "13  When the clever but socially-awkward Tetê join...      2021.0   \n",
              "\n",
              "    content_age  is_movie  recent_release  num_genres release_year_quartile  \n",
              "0             5         1               1           1                    Q4  \n",
              "6             4         1               1           1                    Q4  \n",
              "9             4         1               1           2                    Q4  \n",
              "12            4         1               1           2                    Q4  \n",
              "13            4         1               1           2                    Q4  "
            ]
          },
          "metadata": {},
          "output_type": "display_data"
        },
        {
          "name": "stdout",
          "output_type": "stream",
          "text": [
            "\n",
            "Number of movies released after 2015: 3618\n"
          ]
        }
      ],
      "source": [
        "recent_movies = data[(data['type'] == 'Movie') & (data['release_year'] > 2015)]\n",
        "display(recent_movies.head())\n",
        "print(f\"\\nNumber of movies released after 2015: {len(recent_movies)}\")"
      ]
    },
    {
      "cell_type": "markdown",
      "metadata": {
        "id": "P_R-XVUALH4H"
      },
      "source": [
        "Sort movies by release_year descending and title ascending.\n"
      ]
    },
    {
      "cell_type": "code",
      "execution_count": 41,
      "metadata": {
        "colab": {
          "base_uri": "https://localhost:8080/",
          "height": 608
        },
        "id": "8jXMeBycLN0G",
        "outputId": "390d9f99-97fa-4a83-a2ec-f5750bca4c4f"
      },
      "outputs": [
        {
          "data": {
            "text/html": [
              "<div>\n",
              "<style scoped>\n",
              "    .dataframe tbody tr th:only-of-type {\n",
              "        vertical-align: middle;\n",
              "    }\n",
              "\n",
              "    .dataframe tbody tr th {\n",
              "        vertical-align: top;\n",
              "    }\n",
              "\n",
              "    .dataframe thead th {\n",
              "        text-align: right;\n",
              "    }\n",
              "</style>\n",
              "<table border=\"1\" class=\"dataframe\">\n",
              "  <thead>\n",
              "    <tr style=\"text-align: right;\">\n",
              "      <th></th>\n",
              "      <th>show_id</th>\n",
              "      <th>type</th>\n",
              "      <th>title</th>\n",
              "      <th>director</th>\n",
              "      <th>cast</th>\n",
              "      <th>country</th>\n",
              "      <th>date_added</th>\n",
              "      <th>release_year</th>\n",
              "      <th>rating</th>\n",
              "      <th>duration</th>\n",
              "      <th>listed_in</th>\n",
              "      <th>description</th>\n",
              "      <th>year_added</th>\n",
              "      <th>content_age</th>\n",
              "      <th>is_movie</th>\n",
              "      <th>recent_release</th>\n",
              "      <th>num_genres</th>\n",
              "      <th>release_year_quartile</th>\n",
              "    </tr>\n",
              "  </thead>\n",
              "  <tbody>\n",
              "    <tr>\n",
              "      <th>1150</th>\n",
              "      <td>s1151</td>\n",
              "      <td>Movie</td>\n",
              "      <td>7 Yards: The Chris Norton Story</td>\n",
              "      <td>Jonathon Link</td>\n",
              "      <td>Chris Norton</td>\n",
              "      <td>United States</td>\n",
              "      <td>2021-03-30</td>\n",
              "      <td>2021</td>\n",
              "      <td>TV-PG</td>\n",
              "      <td>93 min</td>\n",
              "      <td>Documentaries</td>\n",
              "      <td>The true story of former college football play...</td>\n",
              "      <td>2021.0</td>\n",
              "      <td>4</td>\n",
              "      <td>1</td>\n",
              "      <td>1</td>\n",
              "      <td>1</td>\n",
              "      <td>Q4</td>\n",
              "    </tr>\n",
              "    <tr>\n",
              "      <th>850</th>\n",
              "      <td>s851</td>\n",
              "      <td>Movie</td>\n",
              "      <td>99 Songs</td>\n",
              "      <td>Vishwesh Krishnamoorthy</td>\n",
              "      <td>Ehan Bhat, Edilsy Vargas, Manisha Koirala, Lis...</td>\n",
              "      <td>India</td>\n",
              "      <td>2021-05-21</td>\n",
              "      <td>2021</td>\n",
              "      <td>TV-14</td>\n",
              "      <td>131 min</td>\n",
              "      <td>Dramas, International Movies, Music &amp; Musicals</td>\n",
              "      <td>Challenged to compose 100 songs before he can ...</td>\n",
              "      <td>2021.0</td>\n",
              "      <td>4</td>\n",
              "      <td>1</td>\n",
              "      <td>1</td>\n",
              "      <td>3</td>\n",
              "      <td>Q4</td>\n",
              "    </tr>\n",
              "    <tr>\n",
              "      <th>851</th>\n",
              "      <td>s852</td>\n",
              "      <td>Movie</td>\n",
              "      <td>99 Songs (Tamil)</td>\n",
              "      <td>NaN</td>\n",
              "      <td>NaN</td>\n",
              "      <td>NaN</td>\n",
              "      <td>2021-05-21</td>\n",
              "      <td>2021</td>\n",
              "      <td>TV-14</td>\n",
              "      <td>131 min</td>\n",
              "      <td>Dramas, International Movies, Music &amp; Musicals</td>\n",
              "      <td>Challenged to compose 100 songs before he can ...</td>\n",
              "      <td>2021.0</td>\n",
              "      <td>4</td>\n",
              "      <td>1</td>\n",
              "      <td>1</td>\n",
              "      <td>3</td>\n",
              "      <td>Q4</td>\n",
              "    </tr>\n",
              "    <tr>\n",
              "      <th>852</th>\n",
              "      <td>s853</td>\n",
              "      <td>Movie</td>\n",
              "      <td>99 Songs (Telugu)</td>\n",
              "      <td>NaN</td>\n",
              "      <td>NaN</td>\n",
              "      <td>NaN</td>\n",
              "      <td>2021-05-21</td>\n",
              "      <td>2021</td>\n",
              "      <td>TV-14</td>\n",
              "      <td>131 min</td>\n",
              "      <td>Dramas, International Movies, Music &amp; Musicals</td>\n",
              "      <td>Challenged to compose 100 songs before he can ...</td>\n",
              "      <td>2021.0</td>\n",
              "      <td>4</td>\n",
              "      <td>1</td>\n",
              "      <td>1</td>\n",
              "      <td>3</td>\n",
              "      <td>Q4</td>\n",
              "    </tr>\n",
              "    <tr>\n",
              "      <th>404</th>\n",
              "      <td>s405</td>\n",
              "      <td>Movie</td>\n",
              "      <td>9to5: The Story of a Movement</td>\n",
              "      <td>NaN</td>\n",
              "      <td>NaN</td>\n",
              "      <td>NaN</td>\n",
              "      <td>2021-07-22</td>\n",
              "      <td>2021</td>\n",
              "      <td>TV-MA</td>\n",
              "      <td>85 min</td>\n",
              "      <td>Documentaries</td>\n",
              "      <td>In this documentary, female office workers in ...</td>\n",
              "      <td>2021.0</td>\n",
              "      <td>4</td>\n",
              "      <td>1</td>\n",
              "      <td>1</td>\n",
              "      <td>1</td>\n",
              "      <td>Q4</td>\n",
              "    </tr>\n",
              "  </tbody>\n",
              "</table>\n",
              "</div>"
            ],
            "text/plain": [
              "     show_id   type                            title                 director  \\\n",
              "1150   s1151  Movie  7 Yards: The Chris Norton Story            Jonathon Link   \n",
              "850     s851  Movie                         99 Songs  Vishwesh Krishnamoorthy   \n",
              "851     s852  Movie                 99 Songs (Tamil)                      NaN   \n",
              "852     s853  Movie                99 Songs (Telugu)                      NaN   \n",
              "404     s405  Movie    9to5: The Story of a Movement                      NaN   \n",
              "\n",
              "                                                   cast        country  \\\n",
              "1150                                       Chris Norton  United States   \n",
              "850   Ehan Bhat, Edilsy Vargas, Manisha Koirala, Lis...          India   \n",
              "851                                                 NaN            NaN   \n",
              "852                                                 NaN            NaN   \n",
              "404                                                 NaN            NaN   \n",
              "\n",
              "     date_added  release_year rating duration  \\\n",
              "1150 2021-03-30          2021  TV-PG   93 min   \n",
              "850  2021-05-21          2021  TV-14  131 min   \n",
              "851  2021-05-21          2021  TV-14  131 min   \n",
              "852  2021-05-21          2021  TV-14  131 min   \n",
              "404  2021-07-22          2021  TV-MA   85 min   \n",
              "\n",
              "                                           listed_in  \\\n",
              "1150                                   Documentaries   \n",
              "850   Dramas, International Movies, Music & Musicals   \n",
              "851   Dramas, International Movies, Music & Musicals   \n",
              "852   Dramas, International Movies, Music & Musicals   \n",
              "404                                    Documentaries   \n",
              "\n",
              "                                            description  year_added  \\\n",
              "1150  The true story of former college football play...      2021.0   \n",
              "850   Challenged to compose 100 songs before he can ...      2021.0   \n",
              "851   Challenged to compose 100 songs before he can ...      2021.0   \n",
              "852   Challenged to compose 100 songs before he can ...      2021.0   \n",
              "404   In this documentary, female office workers in ...      2021.0   \n",
              "\n",
              "      content_age  is_movie  recent_release  num_genres release_year_quartile  \n",
              "1150            4         1               1           1                    Q4  \n",
              "850             4         1               1           3                    Q4  \n",
              "851             4         1               1           3                    Q4  \n",
              "852             4         1               1           3                    Q4  \n",
              "404             4         1               1           1                    Q4  "
            ]
          },
          "metadata": {},
          "output_type": "display_data"
        }
      ],
      "source": [
        "\n",
        "movies_df = data[data['type'] == 'Movie'].copy()\n",
        "sorted_movies = movies_df.sort_values(by=['release_year', 'title'], ascending=[False, True])\n",
        "display(sorted_movies.head())"
      ]
    },
    {
      "cell_type": "markdown",
      "metadata": {
        "id": "yw2j4MxRLeM-"
      },
      "source": [
        "Get the top 5 countries by number of titles, sorted by count descending.\n"
      ]
    },
    {
      "cell_type": "code",
      "execution_count": 42,
      "metadata": {
        "colab": {
          "base_uri": "https://localhost:8080/",
          "height": 272
        },
        "id": "8609135f",
        "outputId": "c25a2af8-f5da-46e2-d000-62c4994ee584"
      },
      "outputs": [
        {
          "data": {
            "text/plain": [
              "country\n",
              "United States     2818\n",
              "India              972\n",
              "United Kingdom     419\n",
              "Japan              244\n",
              "South Korea        199\n",
              "Name: count, dtype: int64"
            ]
          },
          "metadata": {},
          "output_type": "display_data"
        }
      ],
      "source": [
        "country_counts = data['country'].value_counts()\n",
        "top_5_countries = country_counts.head(5)\n",
        "display(top_5_countries)"
      ]
    },
    {
      "cell_type": "markdown",
      "metadata": {
        "id": "ZWAV1sd3LjmY"
      },
      "source": [
        "Get all titles released between 2000 and 2010."
      ]
    },
    {
      "cell_type": "code",
      "execution_count": 43,
      "metadata": {
        "colab": {
          "base_uri": "https://localhost:8080/",
          "height": 677
        },
        "id": "9c5eac08",
        "outputId": "3ed0349d-493b-4163-e6ce-ebd74f620d04"
      },
      "outputs": [
        {
          "data": {
            "text/html": [
              "<div>\n",
              "<style scoped>\n",
              "    .dataframe tbody tr th:only-of-type {\n",
              "        vertical-align: middle;\n",
              "    }\n",
              "\n",
              "    .dataframe tbody tr th {\n",
              "        vertical-align: top;\n",
              "    }\n",
              "\n",
              "    .dataframe thead th {\n",
              "        text-align: right;\n",
              "    }\n",
              "</style>\n",
              "<table border=\"1\" class=\"dataframe\">\n",
              "  <thead>\n",
              "    <tr style=\"text-align: right;\">\n",
              "      <th></th>\n",
              "      <th>show_id</th>\n",
              "      <th>type</th>\n",
              "      <th>title</th>\n",
              "      <th>director</th>\n",
              "      <th>cast</th>\n",
              "      <th>country</th>\n",
              "      <th>date_added</th>\n",
              "      <th>release_year</th>\n",
              "      <th>rating</th>\n",
              "      <th>duration</th>\n",
              "      <th>listed_in</th>\n",
              "      <th>description</th>\n",
              "      <th>year_added</th>\n",
              "      <th>content_age</th>\n",
              "      <th>is_movie</th>\n",
              "      <th>recent_release</th>\n",
              "      <th>num_genres</th>\n",
              "      <th>release_year_quartile</th>\n",
              "    </tr>\n",
              "  </thead>\n",
              "  <tbody>\n",
              "    <tr>\n",
              "      <th>27</th>\n",
              "      <td>s28</td>\n",
              "      <td>Movie</td>\n",
              "      <td>Grown Ups</td>\n",
              "      <td>Dennis Dugan</td>\n",
              "      <td>Adam Sandler, Kevin James, Chris Rock, David S...</td>\n",
              "      <td>United States</td>\n",
              "      <td>2021-09-20</td>\n",
              "      <td>2010</td>\n",
              "      <td>PG-13</td>\n",
              "      <td>103 min</td>\n",
              "      <td>Comedies</td>\n",
              "      <td>Mourning the loss of their beloved junior high...</td>\n",
              "      <td>2021.0</td>\n",
              "      <td>15</td>\n",
              "      <td>1</td>\n",
              "      <td>0</td>\n",
              "      <td>1</td>\n",
              "      <td>Q1</td>\n",
              "    </tr>\n",
              "    <tr>\n",
              "      <th>48</th>\n",
              "      <td>s49</td>\n",
              "      <td>Movie</td>\n",
              "      <td>Training Day</td>\n",
              "      <td>Antoine Fuqua</td>\n",
              "      <td>Denzel Washington, Ethan Hawke, Scott Glenn, T...</td>\n",
              "      <td>United States</td>\n",
              "      <td>2021-09-16</td>\n",
              "      <td>2001</td>\n",
              "      <td>R</td>\n",
              "      <td>122 min</td>\n",
              "      <td>Dramas, Thrillers</td>\n",
              "      <td>A rookie cop with one day to prove himself to ...</td>\n",
              "      <td>2021.0</td>\n",
              "      <td>24</td>\n",
              "      <td>1</td>\n",
              "      <td>0</td>\n",
              "      <td>2</td>\n",
              "      <td>Q1</td>\n",
              "    </tr>\n",
              "    <tr>\n",
              "      <th>51</th>\n",
              "      <td>s52</td>\n",
              "      <td>Movie</td>\n",
              "      <td>InuYasha the Movie 2: The Castle Beyond the Lo...</td>\n",
              "      <td>Toshiya Shinohara</td>\n",
              "      <td>Kappei Yamaguchi, Satsuki Yukino, Mieko Harada...</td>\n",
              "      <td>Japan</td>\n",
              "      <td>2021-09-15</td>\n",
              "      <td>2002</td>\n",
              "      <td>TV-14</td>\n",
              "      <td>99 min</td>\n",
              "      <td>Action &amp; Adventure, Anime Features, Internatio...</td>\n",
              "      <td>With their biggest foe seemingly defeated, Inu...</td>\n",
              "      <td>2021.0</td>\n",
              "      <td>23</td>\n",
              "      <td>1</td>\n",
              "      <td>0</td>\n",
              "      <td>3</td>\n",
              "      <td>Q1</td>\n",
              "    </tr>\n",
              "    <tr>\n",
              "      <th>52</th>\n",
              "      <td>s53</td>\n",
              "      <td>Movie</td>\n",
              "      <td>InuYasha the Movie 3: Swords of an Honorable R...</td>\n",
              "      <td>Toshiya Shinohara</td>\n",
              "      <td>Kappei Yamaguchi, Satsuki Yukino, Koji Tsujita...</td>\n",
              "      <td>Japan</td>\n",
              "      <td>2021-09-15</td>\n",
              "      <td>2003</td>\n",
              "      <td>TV-14</td>\n",
              "      <td>99 min</td>\n",
              "      <td>Action &amp; Adventure, Anime Features, Internatio...</td>\n",
              "      <td>The Great Dog Demon beaqueathed one of the Thr...</td>\n",
              "      <td>2021.0</td>\n",
              "      <td>22</td>\n",
              "      <td>1</td>\n",
              "      <td>0</td>\n",
              "      <td>3</td>\n",
              "      <td>Q1</td>\n",
              "    </tr>\n",
              "    <tr>\n",
              "      <th>53</th>\n",
              "      <td>s54</td>\n",
              "      <td>Movie</td>\n",
              "      <td>InuYasha the Movie 4: Fire on the Mystic Island</td>\n",
              "      <td>Toshiya Shinohara</td>\n",
              "      <td>Kappei Yamaguchi, Satsuki Yukino, Koji Tsujita...</td>\n",
              "      <td>Japan</td>\n",
              "      <td>2021-09-15</td>\n",
              "      <td>2004</td>\n",
              "      <td>TV-PG</td>\n",
              "      <td>88 min</td>\n",
              "      <td>Action &amp; Adventure, Anime Features, Internatio...</td>\n",
              "      <td>Ai, a young half-demon who has escaped from Ho...</td>\n",
              "      <td>2021.0</td>\n",
              "      <td>21</td>\n",
              "      <td>1</td>\n",
              "      <td>0</td>\n",
              "      <td>3</td>\n",
              "      <td>Q1</td>\n",
              "    </tr>\n",
              "  </tbody>\n",
              "</table>\n",
              "</div>"
            ],
            "text/plain": [
              "   show_id   type                                              title  \\\n",
              "27     s28  Movie                                          Grown Ups   \n",
              "48     s49  Movie                                       Training Day   \n",
              "51     s52  Movie  InuYasha the Movie 2: The Castle Beyond the Lo...   \n",
              "52     s53  Movie  InuYasha the Movie 3: Swords of an Honorable R...   \n",
              "53     s54  Movie    InuYasha the Movie 4: Fire on the Mystic Island   \n",
              "\n",
              "             director                                               cast  \\\n",
              "27       Dennis Dugan  Adam Sandler, Kevin James, Chris Rock, David S...   \n",
              "48      Antoine Fuqua  Denzel Washington, Ethan Hawke, Scott Glenn, T...   \n",
              "51  Toshiya Shinohara  Kappei Yamaguchi, Satsuki Yukino, Mieko Harada...   \n",
              "52  Toshiya Shinohara  Kappei Yamaguchi, Satsuki Yukino, Koji Tsujita...   \n",
              "53  Toshiya Shinohara  Kappei Yamaguchi, Satsuki Yukino, Koji Tsujita...   \n",
              "\n",
              "          country date_added  release_year rating duration  \\\n",
              "27  United States 2021-09-20          2010  PG-13  103 min   \n",
              "48  United States 2021-09-16          2001      R  122 min   \n",
              "51          Japan 2021-09-15          2002  TV-14   99 min   \n",
              "52          Japan 2021-09-15          2003  TV-14   99 min   \n",
              "53          Japan 2021-09-15          2004  TV-PG   88 min   \n",
              "\n",
              "                                            listed_in  \\\n",
              "27                                           Comedies   \n",
              "48                                  Dramas, Thrillers   \n",
              "51  Action & Adventure, Anime Features, Internatio...   \n",
              "52  Action & Adventure, Anime Features, Internatio...   \n",
              "53  Action & Adventure, Anime Features, Internatio...   \n",
              "\n",
              "                                          description  year_added  \\\n",
              "27  Mourning the loss of their beloved junior high...      2021.0   \n",
              "48  A rookie cop with one day to prove himself to ...      2021.0   \n",
              "51  With their biggest foe seemingly defeated, Inu...      2021.0   \n",
              "52  The Great Dog Demon beaqueathed one of the Thr...      2021.0   \n",
              "53  Ai, a young half-demon who has escaped from Ho...      2021.0   \n",
              "\n",
              "    content_age  is_movie  recent_release  num_genres release_year_quartile  \n",
              "27           15         1               0           1                    Q1  \n",
              "48           24         1               0           2                    Q1  \n",
              "51           23         1               0           3                    Q1  \n",
              "52           22         1               0           3                    Q1  \n",
              "53           21         1               0           3                    Q1  "
            ]
          },
          "metadata": {},
          "output_type": "display_data"
        },
        {
          "name": "stdout",
          "output_type": "stream",
          "text": [
            "\n",
            "Number of titles released between 2000 and 2010: 1004\n"
          ]
        }
      ],
      "source": [
        "titles_2000_2010 = data[(data['release_year'] >= 2000) & (data['release_year'] <= 2010)]\n",
        "display(titles_2000_2010.head())\n",
        "print(f\"\\nNumber of titles released between 2000 and 2010: {len(titles_2000_2010)}\")"
      ]
    },
    {
      "cell_type": "markdown",
      "metadata": {
        "id": "ciLwccwHLnZj"
      },
      "source": [
        "Count how many titles have “Drama” in their listed_in column.\n"
      ]
    },
    {
      "cell_type": "code",
      "execution_count": 44,
      "metadata": {
        "colab": {
          "base_uri": "https://localhost:8080/"
        },
        "id": "51a6ac2b",
        "outputId": "f11d405d-c24e-48a3-e02f-fa6317e4a5af"
      },
      "outputs": [
        {
          "name": "stdout",
          "output_type": "stream",
          "text": [
            "Number of titles with 'Drama' in listed_in: 3189\n"
          ]
        }
      ],
      "source": [
        "drama_titles_count = data['listed_in'].str.contains('Drama').sum()\n",
        "print(f\"Number of titles with 'Drama' in listed_in: {drama_titles_count}\")"
      ]
    },
    {
      "cell_type": "markdown",
      "metadata": {
        "id": "V_7PNoyanfzh"
      },
      "source": [
        "Part 8:– Insights\n"
      ]
    },
    {
      "cell_type": "markdown",
      "metadata": {
        "id": "ZZmnqW__LrSJ"
      },
      "source": [
        "Which country produces the most Netflix content?\n"
      ]
    },
    {
      "cell_type": "code",
      "execution_count": 45,
      "metadata": {
        "colab": {
          "base_uri": "https://localhost:8080/"
        },
        "id": "vtlZ84iJpFrc",
        "outputId": "ff6925d9-d557-4473-dde3-358d31de5324"
      },
      "outputs": [
        {
          "name": "stdout",
          "output_type": "stream",
          "text": [
            "The country that produces the most Netflix content is: United States\n"
          ]
        }
      ],
      "source": [
        "# The country with the highest count is the first index in the country_counts Series\n",
        "most_producing_country = country_counts.index[0]\n",
        "print(f\"The country that produces the most Netflix content is: {most_producing_country}\")"
      ]
    },
    {
      "cell_type": "markdown",
      "metadata": {
        "id": "AB0wDvH9Lt5w"
      },
      "source": [
        "Which year had the highest content release?\n"
      ]
    },
    {
      "cell_type": "code",
      "execution_count": 46,
      "metadata": {
        "colab": {
          "base_uri": "https://localhost:8080/"
        },
        "id": "8c163ddc",
        "outputId": "f57a0962-55fa-4e90-e409-dd7482eaf977"
      },
      "outputs": [
        {
          "name": "stdout",
          "output_type": "stream",
          "text": [
            "The year with the highest content release was: 2018 with 1147 titles.\n"
          ]
        }
      ],
      "source": [
        "year_highest_release = release_year_counts.loc[release_year_counts['count'].idxmax()]\n",
        "print(f\"The year with the highest content release was: {int(year_highest_release['release_year'])} with {year_highest_release['count']} titles.\")"
      ]
    },
    {
      "cell_type": "markdown",
      "metadata": {
        "id": "sH54a7OGLwtH"
      },
      "source": [
        "Are Movies or TV Shows more frequent?\n"
      ]
    },
    {
      "cell_type": "code",
      "execution_count": 47,
      "metadata": {
        "colab": {
          "base_uri": "https://localhost:8080/"
        },
        "id": "9c87c200",
        "outputId": "b43813da-5c50-496a-cc60-aa5888d7a424"
      },
      "outputs": [
        {
          "name": "stdout",
          "output_type": "stream",
          "text": [
            "The most frequent content type is: Movie\n"
          ]
        }
      ],
      "source": [
        "# Find the type with the maximum count\n",
        "most_frequent_type = type_counts.idxmax()\n",
        "print(f\"The most frequent content type is: {most_frequent_type}\")"
      ]
    },
    {
      "cell_type": "markdown",
      "metadata": {
        "id": "NPsI9yYkLzT2"
      },
      "source": [
        "Which genre appears most frequently on Netflix?"
      ]
    },
    {
      "cell_type": "code",
      "execution_count": 48,
      "metadata": {
        "colab": {
          "base_uri": "https://localhost:8080/"
        },
        "id": "f84d82c9",
        "outputId": "ac84a282-c4a1-40f4-f2b9-ae861d2928e9"
      },
      "outputs": [
        {
          "name": "stdout",
          "output_type": "stream",
          "text": [
            "The most frequent genre is: International Movies\n"
          ]
        }
      ],
      "source": [
        "genre_counts = data['listed_in'].str.split(', ').explode().value_counts()\n",
        "most_frequent_genre = genre_counts.idxmax()\n",
        "print(f\"The most frequent genre is: {most_frequent_genre}\")"
      ]
    }
  ],
  "metadata": {
    "colab": {
      "provenance": []
    },
    "kernelspec": {
      "display_name": ".venv",
      "language": "python",
      "name": "python3"
    },
    "language_info": {
      "codemirror_mode": {
        "name": "ipython",
        "version": 3
      },
      "file_extension": ".py",
      "mimetype": "text/x-python",
      "name": "python",
      "nbconvert_exporter": "python",
      "pygments_lexer": "ipython3",
      "version": "3.13.5"
    }
  },
  "nbformat": 4,
  "nbformat_minor": 0
}
